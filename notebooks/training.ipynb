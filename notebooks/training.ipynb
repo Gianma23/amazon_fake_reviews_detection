{
 "cells": [
  {
   "metadata": {},
   "cell_type": "markdown",
   "source": "# Model Training",
   "id": "406a275748fc4ae1"
  },
  {
   "metadata": {},
   "cell_type": "markdown",
   "source": "Prepare dataframe ",
   "id": "5185c4c214683a8a"
  },
  {
   "metadata": {
    "ExecuteTime": {
     "end_time": "2024-09-17T13:48:15.925567Z",
     "start_time": "2024-09-17T13:48:04.721711Z"
    }
   },
   "cell_type": "code",
   "source": [
    "from random import shuffle\n",
    "\n",
    "from sklearn.calibration import CalibratedClassifierCV\n",
    "from sklearn.metrics import accuracy_score, f1_score, roc_auc_score\n",
    "from gensim.models import Word2Vec\n",
    "from sklearn.svm import LinearSVC\n",
    "from sklearn.compose import ColumnTransformer\n",
    "from sklearn.preprocessing import OneHotEncoder\n",
    "import pandas as pd\n",
    "from sklearn.pipeline import Pipeline\n",
    "from sklearn.ensemble import RandomForestClassifier\n",
    "from sklearn.feature_extraction.text import CountVectorizer, TfidfVectorizer\n",
    "from utils.text_preprocess import LemmaTokenizer\n",
    "import nltk\n",
    "import numpy as np\n",
    "from nltk.tokenize import sent_tokenize\n",
    "from sklearn.experimental import enable_halving_search_cv\n",
    "\n",
    "nltk.download('stopwords')\n",
    "nltk.download('punkt')\n",
    "nltk.download('punkt_tab')\n",
    "        \n",
    "df = pd.read_csv('../data/amazon_reviews.txt', sep='\\t')\n",
    "df['VERIFIED_PURCHASE'] = df['VERIFIED_PURCHASE'].map({'Y': 1, 'N': 0})\n",
    "\n",
    "word2vec_model_file = '../models/word2vec_100_v2.model'\n",
    "model = Word2Vec.load(word2vec_model_file)\n",
    "\n",
    "def average_word_embeddings(sentence, model):\n",
    "    words = LemmaTokenizer()(sentence)\n",
    "    word_vectors = [model.wv[word] for word in words if word in model.wv]\n",
    "    \n",
    "    if len(word_vectors) == 0:\n",
    "        return np.zeros(model.vector_size)\n",
    "    \n",
    "    return np.mean(word_vectors, axis=0)\n",
    "\n",
    "# Define a function to process each review\n",
    "def process_review(review_text, model):\n",
    "    sentences = sent_tokenize(review_text)\n",
    "    sentence_embeddings = [average_word_embeddings(sentence, model) for sentence in sentences]\n",
    "    return sentence_embeddings\n",
    "\n",
    "df['Sentence_Embeddings'] = df['REVIEW_TEXT'].apply(lambda x: process_review(x, model))\n"
   ],
   "id": "9d484cd9e4e6b1c6",
   "outputs": [
    {
     "name": "stderr",
     "output_type": "stream",
     "text": [
      "[nltk_data] Error loading stopwords: <urlopen error [Errno 11001]\n",
      "[nltk_data]     getaddrinfo failed>\n",
      "[nltk_data] Error loading punkt: <urlopen error [Errno 11001]\n",
      "[nltk_data]     getaddrinfo failed>\n",
      "[nltk_data] Error loading punkt_tab: <urlopen error [Errno 11001]\n",
      "[nltk_data]     getaddrinfo failed>\n",
      "E:\\PycharmProjects\\amazon_fake_reviews_detection\\utils\\text_preprocess.py:28: MarkupResemblesLocatorWarning: The input looks more like a filename than markup. You may want to open this file and pass the filehandle into Beautiful Soup.\n",
      "  text = BeautifulSoup(text, \"html.parser\").get_text()\n"
     ]
    }
   ],
   "execution_count": 1
  },
  {
   "metadata": {},
   "cell_type": "markdown",
   "source": "Create pipelines",
   "id": "51b2984b39e567b6"
  },
  {
   "metadata": {
    "ExecuteTime": {
     "end_time": "2024-09-17T13:48:15.933902Z",
     "start_time": "2024-09-17T13:48:15.928575Z"
    }
   },
   "cell_type": "code",
   "source": [
    "from utils.transformers import *\n",
    "    \n",
    "classifiers = [\n",
    "    CalibratedClassifierCV(LinearSVC(random_state=42, dual=\"auto\")),\n",
    "    RandomForestClassifier(random_state=42, n_jobs=-1),\n",
    "]\n",
    "vectorizers = [\n",
    "    TfidfVectorizer(tokenizer=LemmaTokenizer(), token_pattern=None),\n",
    "    CountVectorizer(tokenizer=LemmaTokenizer(), token_pattern=None),\n",
    "]\n",
    "\n",
    "pipes = []\n",
    "pipes_names = []\n",
    "for clf in classifiers:\n",
    "    for vectorizer in vectorizers:\n",
    "        for useEmbeddings in [True]:\n",
    "            for useVP in [True, False]:\n",
    "                transformers = [\n",
    "                    ('vectorizer', vectorizer, 'REVIEW_TEXT')\n",
    "                ]\n",
    "                if useEmbeddings:\n",
    "                    transformers.append(('embeddings', SentenceEmbeddingTransformer(), 'Sentence_Embeddings'))\n",
    "                if useVP:\n",
    "                    transformers.append(('vp', OneHotEncoder(), ['VERIFIED_PURCHASE']))\n",
    "                \n",
    "                # No need for DenseTransformer for other classifiers\n",
    "                pipes.append(Pipeline([\n",
    "                    ('preprocessor', ColumnTransformer(transformers, n_jobs=-1)),\n",
    "                    ('clf', clf)\n",
    "                ]))\n",
    "                    \n",
    "                pipes_names.append(f'{clf.__class__.__name__}_'\n",
    "                                   f'{vectorizer.__class__.__name__}'\n",
    "                                   f'{\"_WE\" if useEmbeddings else \"\"}'\n",
    "                                   f'{\"_VP\" if useVP else \"\"}')"
   ],
   "id": "b2c4919bcc0b9509",
   "outputs": [],
   "execution_count": 2
  },
  {
   "metadata": {},
   "cell_type": "markdown",
   "source": "Nested cross-validation",
   "id": "9d80d859f9116171"
  },
  {
   "metadata": {
    "ExecuteTime": {
     "end_time": "2024-09-17T20:00:41.649353Z",
     "start_time": "2024-09-17T13:48:16.011688Z"
    }
   },
   "cell_type": "code",
   "source": [
    "from nltk import sent_tokenize\n",
    "import pandas as pd\n",
    "import joblib\n",
    "from sklearn.model_selection import HalvingGridSearchCV, StratifiedKFold\n",
    "from utils.text_preprocess import LemmaTokenizer\n",
    "\n",
    "\n",
    "param_grids = {\n",
    "    'RandomForestClassifier': {\n",
    "        'clf__n_estimators': [800, 1000, 1200],\n",
    "        'clf__criterion': ['entropy', 'log_loss'],\n",
    "        'clf__max_depth': [None, 20, 40, 60],\n",
    "        'clf__bootstrap': [False, True],\n",
    "    },\n",
    "    'CalibratedClassifierCV': {\n",
    "        'clf__estimator__C': [0.5, 1, 1.5],\n",
    "        'clf__estimator__max_iter': [2000, 4000],\n",
    "        'clf__estimator__loss': ['hinge', 'squared_hinge'],\n",
    "    },\n",
    "}\n",
    "\n",
    "inner_cv = StratifiedKFold(n_splits=5, shuffle=True, random_state=42)\n",
    "outer_cv = StratifiedKFold(n_splits=10, shuffle=True, random_state=42)\n",
    "results = {}\n",
    "best_accuracy = 0\n",
    "best_model = None\n",
    "\n",
    "for pipe, pipe_name in zip(pipes, pipes_names):\n",
    "    print(pipe_name)\n",
    "    clf_name = pipe.steps[-1][1].__class__.__name__\n",
    "    grid = param_grids[clf_name]\n",
    "    clf = HalvingGridSearchCV(pipe, grid, cv=inner_cv, factor=3, random_state=42, n_jobs=-1)\n",
    "    results[pipe_name] = [[], [], [], []]\n",
    "    \n",
    "    # Loop instead of cross_val_score to have more control over printing\n",
    "    for fold, (train_idx, test_idx) in enumerate(outer_cv.split(df, df['LABEL'])):\n",
    "        print(f\"Fold {fold}:\")\n",
    "        \n",
    "        # Split the data\n",
    "        X_train, X_test = df.iloc[train_idx], df.iloc[test_idx]\n",
    "        y_train, y_test = df['LABEL'].iloc[train_idx], df['LABEL'].iloc[test_idx]\n",
    "        \n",
    "        clf.fit(X_train, y_train)\n",
    "        y_pred = clf.predict(X_test)\n",
    "        results[pipe_name][0].append(accuracy_score(y_test, y_pred))\n",
    "        results[pipe_name][1].append(f1_score(y_test, y_pred, pos_label='__label1__'))\n",
    "        results[pipe_name][2].append(roc_auc_score(y_test, clf.predict_proba(X_test)[:,1]))\n",
    "        results[pipe_name][3].append(clf.best_params_)\n",
    "        \n",
    "        # Update best model \n",
    "        if results[pipe_name][0][-1] > best_accuracy:\n",
    "            best_accuracy = results[pipe_name][0][-1]\n",
    "            best_model = clf.best_estimator_\n",
    "\n",
    "        print(f\"Best params: {clf.best_params_}\\n\"\n",
    "              f\"Test accuracy: { results[pipe_name][0][-1]}\\n\"\n",
    "              f\"Test F1: { results[pipe_name][1][-1]}\\n\"\n",
    "              f\"Test AUC: { results[pipe_name][2][-1]}\\n\")\n",
    "    \n",
    "    print(f'Mean Accuracy: {np.mean(results[pipe_name][0])}\\n'\n",
    "          f'Mean F1: {np.mean(results[pipe_name][1])}\\n'\n",
    "          f'Mean AUC: {np.mean(results[pipe_name][2])}\\n')\n",
    "\n",
    "# save results to csv file\n",
    "results_str = {key: [str(value) for value in values] for key, values in results.items()}\n",
    "\n",
    "df = pd.DataFrame()\n",
    "for key, value in results_str.items():\n",
    "    temp_df = pd.DataFrame([value], columns=['accuracy', 'f1_score', 'AUC', 'hyperparameters'])\n",
    "    temp_df.insert(0, 'model', key)\n",
    "    df = pd.concat([df, temp_df], ignore_index=True)\n",
    "df.to_csv('results2.csv', index=False)\n",
    "\n",
    "# save best model\n",
    "joblib.dump(best_model, 'models/best_model_2.pkl')"
   ],
   "id": "4e135cda31eea7a1",
   "outputs": [
    {
     "name": "stdout",
     "output_type": "stream",
     "text": [
      "CalibratedClassifierCV_TfidfVectorizer_WE_VP\n",
      "Fold 0:\n",
      "Best params: {'clf__estimator__C': 1, 'clf__estimator__loss': 'hinge', 'clf__estimator__max_iter': 2000}\n",
      "Test accuracy: 0.7980952380952381\n",
      "Test F1: 0.7963496637848223\n",
      "Test AUC: 0.8569006802721089\n",
      "\n",
      "Fold 1:\n"
     ]
    },
    {
     "name": "stderr",
     "output_type": "stream",
     "text": [
      "C:\\Users\\Utente\\anaconda3\\envs\\DMML_project\\Lib\\site-packages\\sklearn\\svm\\_base.py:1235: ConvergenceWarning: Liblinear failed to converge, increase the number of iterations.\n",
      "  warnings.warn(\n"
     ]
    },
    {
     "name": "stdout",
     "output_type": "stream",
     "text": [
      "Best params: {'clf__estimator__C': 1, 'clf__estimator__loss': 'hinge', 'clf__estimator__max_iter': 2000}\n",
      "Test accuracy: 0.7985714285714286\n",
      "Test F1: 0.7939600584510472\n",
      "Test AUC: 0.8639682539682538\n",
      "\n",
      "Fold 2:\n",
      "Best params: {'clf__estimator__C': 0.5, 'clf__estimator__loss': 'squared_hinge', 'clf__estimator__max_iter': 2000}\n",
      "Test accuracy: 0.8014285714285714\n",
      "Test F1: 0.8009546539379475\n",
      "Test AUC: 0.8624272108843537\n",
      "\n",
      "Fold 3:\n",
      "Best params: {'clf__estimator__C': 1, 'clf__estimator__loss': 'hinge', 'clf__estimator__max_iter': 2000}\n",
      "Test accuracy: 0.7971428571428572\n",
      "Test F1: 0.7938044530493708\n",
      "Test AUC: 0.856833560090703\n",
      "\n",
      "Fold 4:\n",
      "Best params: {'clf__estimator__C': 1, 'clf__estimator__loss': 'hinge', 'clf__estimator__max_iter': 2000}\n",
      "Test accuracy: 0.8052380952380952\n",
      "Test F1: 0.8025108643167552\n",
      "Test AUC: 0.866053514739229\n",
      "\n",
      "Fold 5:\n",
      "Best params: {'clf__estimator__C': 1, 'clf__estimator__loss': 'hinge', 'clf__estimator__max_iter': 2000}\n",
      "Test accuracy: 0.8042857142857143\n",
      "Test F1: 0.7986281234688878\n",
      "Test AUC: 0.8754566893424036\n",
      "\n",
      "Fold 6:\n",
      "Best params: {'clf__estimator__C': 0.5, 'clf__estimator__loss': 'squared_hinge', 'clf__estimator__max_iter': 2000}\n",
      "Test accuracy: 0.8028571428571428\n",
      "Test F1: 0.7996127783155856\n",
      "Test AUC: 0.865494784580499\n",
      "\n",
      "Fold 7:\n",
      "Best params: {'clf__estimator__C': 1, 'clf__estimator__loss': 'hinge', 'clf__estimator__max_iter': 2000}\n",
      "Test accuracy: 0.8261904761904761\n",
      "Test F1: 0.8223844282238443\n",
      "Test AUC: 0.8817070294784579\n",
      "\n",
      "Fold 8:\n",
      "Best params: {'clf__estimator__C': 1, 'clf__estimator__loss': 'hinge', 'clf__estimator__max_iter': 2000}\n",
      "Test accuracy: 0.799047619047619\n",
      "Test F1: 0.7951456310679612\n",
      "Test AUC: 0.8499165532879818\n",
      "\n",
      "Fold 9:\n",
      "Best params: {'clf__estimator__C': 1, 'clf__estimator__loss': 'hinge', 'clf__estimator__max_iter': 2000}\n",
      "Test accuracy: 0.8057142857142857\n",
      "Test F1: 0.8034682080924855\n",
      "Test AUC: 0.8646222222222222\n",
      "\n",
      "Mean Accuracy: 0.8038571428571428\n",
      "Mean F1: 0.8006818862708707\n",
      "Mean AUC: 0.8643380498866213\n",
      "\n",
      "CalibratedClassifierCV_TfidfVectorizer_WE\n",
      "Fold 0:\n",
      "Best params: {'clf__estimator__C': 0.5, 'clf__estimator__loss': 'hinge', 'clf__estimator__max_iter': 2000}\n",
      "Test accuracy: 0.6333333333333333\n",
      "Test F1: 0.6308724832214765\n",
      "Test AUC: 0.687265306122449\n",
      "\n",
      "Fold 1:\n",
      "Best params: {'clf__estimator__C': 1, 'clf__estimator__loss': 'hinge', 'clf__estimator__max_iter': 2000}\n",
      "Test accuracy: 0.6523809523809524\n",
      "Test F1: 0.6614100185528757\n",
      "Test AUC: 0.7043056689342404\n",
      "\n",
      "Fold 2:\n",
      "Best params: {'clf__estimator__C': 0.5, 'clf__estimator__loss': 'hinge', 'clf__estimator__max_iter': 2000}\n",
      "Test accuracy: 0.6309523809523809\n",
      "Test F1: 0.6311280342693956\n",
      "Test AUC: 0.6904625850340136\n",
      "\n",
      "Fold 3:\n",
      "Best params: {'clf__estimator__C': 0.5, 'clf__estimator__loss': 'hinge', 'clf__estimator__max_iter': 2000}\n",
      "Test accuracy: 0.6414285714285715\n",
      "Test F1: 0.6456470588235295\n",
      "Test AUC: 0.6986866213151928\n",
      "\n",
      "Fold 4:\n",
      "Best params: {'clf__estimator__C': 0.5, 'clf__estimator__loss': 'hinge', 'clf__estimator__max_iter': 2000}\n",
      "Test accuracy: 0.6338095238095238\n",
      "Test F1: 0.6381176470588236\n",
      "Test AUC: 0.6920172335600907\n",
      "\n",
      "Fold 5:\n",
      "Best params: {'clf__estimator__C': 0.5, 'clf__estimator__loss': 'hinge', 'clf__estimator__max_iter': 2000}\n",
      "Test accuracy: 0.6638095238095238\n",
      "Test F1: 0.6644486692015209\n",
      "Test AUC: 0.7283646258503402\n",
      "\n",
      "Fold 6:\n",
      "Best params: {'clf__estimator__C': 0.5, 'clf__estimator__loss': 'hinge', 'clf__estimator__max_iter': 2000}\n",
      "Test accuracy: 0.6390476190476191\n",
      "Test F1: 0.646784715750233\n",
      "Test AUC: 0.6873859410430838\n",
      "\n",
      "Fold 7:\n",
      "Best params: {'clf__estimator__C': 0.5, 'clf__estimator__loss': 'hinge', 'clf__estimator__max_iter': 2000}\n",
      "Test accuracy: 0.6542857142857142\n",
      "Test F1: 0.6526315789473685\n",
      "Test AUC: 0.7048371882086167\n",
      "\n",
      "Fold 8:\n",
      "Best params: {'clf__estimator__C': 0.5, 'clf__estimator__loss': 'hinge', 'clf__estimator__max_iter': 2000}\n",
      "Test accuracy: 0.6304761904761905\n",
      "Test F1: 0.6377217553688141\n",
      "Test AUC: 0.6866331065759637\n",
      "\n",
      "Fold 9:\n",
      "Best params: {'clf__estimator__C': 0.5, 'clf__estimator__loss': 'hinge', 'clf__estimator__max_iter': 2000}\n",
      "Test accuracy: 0.628095238095238\n",
      "Test F1: 0.6286257727056586\n",
      "Test AUC: 0.6859238095238095\n",
      "\n",
      "Mean Accuracy: 0.6407619047619048\n",
      "Mean F1: 0.6437387733899695\n",
      "Mean AUC: 0.6965882086167801\n",
      "\n",
      "CalibratedClassifierCV_CountVectorizer_WE_VP\n",
      "Fold 0:\n"
     ]
    },
    {
     "name": "stderr",
     "output_type": "stream",
     "text": [
      "C:\\Users\\Utente\\anaconda3\\envs\\DMML_project\\Lib\\site-packages\\sklearn\\svm\\_base.py:1235: ConvergenceWarning: Liblinear failed to converge, increase the number of iterations.\n",
      "  warnings.warn(\n"
     ]
    },
    {
     "name": "stdout",
     "output_type": "stream",
     "text": [
      "Best params: {'clf__estimator__C': 0.5, 'clf__estimator__loss': 'squared_hinge', 'clf__estimator__max_iter': 2000}\n",
      "Test accuracy: 0.7666666666666667\n",
      "Test F1: 0.7662213740458015\n",
      "Test AUC: 0.8242557823129253\n",
      "\n",
      "Fold 1:\n"
     ]
    },
    {
     "name": "stderr",
     "output_type": "stream",
     "text": [
      "C:\\Users\\Utente\\anaconda3\\envs\\DMML_project\\Lib\\site-packages\\sklearn\\svm\\_base.py:1235: ConvergenceWarning: Liblinear failed to converge, increase the number of iterations.\n",
      "  warnings.warn(\n",
      "C:\\Users\\Utente\\anaconda3\\envs\\DMML_project\\Lib\\site-packages\\sklearn\\svm\\_base.py:1235: ConvergenceWarning: Liblinear failed to converge, increase the number of iterations.\n",
      "  warnings.warn(\n",
      "C:\\Users\\Utente\\anaconda3\\envs\\DMML_project\\Lib\\site-packages\\sklearn\\svm\\_base.py:1235: ConvergenceWarning: Liblinear failed to converge, increase the number of iterations.\n",
      "  warnings.warn(\n"
     ]
    },
    {
     "name": "stdout",
     "output_type": "stream",
     "text": [
      "Best params: {'clf__estimator__C': 0.5, 'clf__estimator__loss': 'squared_hinge', 'clf__estimator__max_iter': 2000}\n",
      "Test accuracy: 0.7795238095238095\n",
      "Test F1: 0.7764365041042974\n",
      "Test AUC: 0.8350421768707482\n",
      "\n",
      "Fold 2:\n"
     ]
    },
    {
     "name": "stderr",
     "output_type": "stream",
     "text": [
      "C:\\Users\\Utente\\anaconda3\\envs\\DMML_project\\Lib\\site-packages\\sklearn\\svm\\_base.py:1235: ConvergenceWarning: Liblinear failed to converge, increase the number of iterations.\n",
      "  warnings.warn(\n",
      "C:\\Users\\Utente\\anaconda3\\envs\\DMML_project\\Lib\\site-packages\\sklearn\\svm\\_base.py:1235: ConvergenceWarning: Liblinear failed to converge, increase the number of iterations.\n",
      "  warnings.warn(\n"
     ]
    },
    {
     "name": "stdout",
     "output_type": "stream",
     "text": [
      "Best params: {'clf__estimator__C': 0.5, 'clf__estimator__loss': 'hinge', 'clf__estimator__max_iter': 4000}\n",
      "Test accuracy: 0.81\n",
      "Test F1: 0.8064046579330422\n",
      "Test AUC: 0.8561433106575964\n",
      "\n",
      "Fold 3:\n"
     ]
    },
    {
     "name": "stderr",
     "output_type": "stream",
     "text": [
      "C:\\Users\\Utente\\anaconda3\\envs\\DMML_project\\Lib\\site-packages\\sklearn\\svm\\_base.py:1235: ConvergenceWarning: Liblinear failed to converge, increase the number of iterations.\n",
      "  warnings.warn(\n",
      "C:\\Users\\Utente\\anaconda3\\envs\\DMML_project\\Lib\\site-packages\\sklearn\\svm\\_base.py:1235: ConvergenceWarning: Liblinear failed to converge, increase the number of iterations.\n",
      "  warnings.warn(\n",
      "C:\\Users\\Utente\\anaconda3\\envs\\DMML_project\\Lib\\site-packages\\sklearn\\svm\\_base.py:1235: ConvergenceWarning: Liblinear failed to converge, increase the number of iterations.\n",
      "  warnings.warn(\n"
     ]
    },
    {
     "name": "stdout",
     "output_type": "stream",
     "text": [
      "Best params: {'clf__estimator__C': 0.5, 'clf__estimator__loss': 'squared_hinge', 'clf__estimator__max_iter': 2000}\n",
      "Test accuracy: 0.7704761904761904\n",
      "Test F1: 0.771780303030303\n",
      "Test AUC: 0.8258276643990929\n",
      "\n",
      "Fold 4:\n"
     ]
    },
    {
     "name": "stderr",
     "output_type": "stream",
     "text": [
      "C:\\Users\\Utente\\anaconda3\\envs\\DMML_project\\Lib\\site-packages\\sklearn\\svm\\_base.py:1235: ConvergenceWarning: Liblinear failed to converge, increase the number of iterations.\n",
      "  warnings.warn(\n",
      "C:\\Users\\Utente\\anaconda3\\envs\\DMML_project\\Lib\\site-packages\\sklearn\\svm\\_base.py:1235: ConvergenceWarning: Liblinear failed to converge, increase the number of iterations.\n",
      "  warnings.warn(\n"
     ]
    },
    {
     "name": "stdout",
     "output_type": "stream",
     "text": [
      "Best params: {'clf__estimator__C': 0.5, 'clf__estimator__loss': 'hinge', 'clf__estimator__max_iter': 4000}\n",
      "Test accuracy: 0.7914285714285715\n",
      "Test F1: 0.7879961277831559\n",
      "Test AUC: 0.8482603174603174\n",
      "\n",
      "Fold 5:\n"
     ]
    },
    {
     "name": "stderr",
     "output_type": "stream",
     "text": [
      "C:\\Users\\Utente\\anaconda3\\envs\\DMML_project\\Lib\\site-packages\\sklearn\\svm\\_base.py:1235: ConvergenceWarning: Liblinear failed to converge, increase the number of iterations.\n",
      "  warnings.warn(\n"
     ]
    },
    {
     "name": "stdout",
     "output_type": "stream",
     "text": [
      "Best params: {'clf__estimator__C': 0.5, 'clf__estimator__loss': 'squared_hinge', 'clf__estimator__max_iter': 2000}\n",
      "Test accuracy: 0.799047619047619\n",
      "Test F1: 0.7957405614714425\n",
      "Test AUC: 0.8522938775510204\n",
      "\n",
      "Fold 6:\n"
     ]
    },
    {
     "name": "stderr",
     "output_type": "stream",
     "text": [
      "C:\\Users\\Utente\\anaconda3\\envs\\DMML_project\\Lib\\site-packages\\sklearn\\svm\\_base.py:1235: ConvergenceWarning: Liblinear failed to converge, increase the number of iterations.\n",
      "  warnings.warn(\n",
      "C:\\Users\\Utente\\anaconda3\\envs\\DMML_project\\Lib\\site-packages\\sklearn\\svm\\_base.py:1235: ConvergenceWarning: Liblinear failed to converge, increase the number of iterations.\n",
      "  warnings.warn(\n"
     ]
    },
    {
     "name": "stdout",
     "output_type": "stream",
     "text": [
      "Best params: {'clf__estimator__C': 0.5, 'clf__estimator__loss': 'squared_hinge', 'clf__estimator__max_iter': 2000}\n",
      "Test accuracy: 0.7776190476190477\n",
      "Test F1: 0.7779362815026153\n",
      "Test AUC: 0.8427528344671201\n",
      "\n",
      "Fold 7:\n"
     ]
    },
    {
     "name": "stderr",
     "output_type": "stream",
     "text": [
      "C:\\Users\\Utente\\anaconda3\\envs\\DMML_project\\Lib\\site-packages\\sklearn\\svm\\_base.py:1235: ConvergenceWarning: Liblinear failed to converge, increase the number of iterations.\n",
      "  warnings.warn(\n",
      "C:\\Users\\Utente\\anaconda3\\envs\\DMML_project\\Lib\\site-packages\\sklearn\\svm\\_base.py:1235: ConvergenceWarning: Liblinear failed to converge, increase the number of iterations.\n",
      "  warnings.warn(\n"
     ]
    },
    {
     "name": "stdout",
     "output_type": "stream",
     "text": [
      "Best params: {'clf__estimator__C': 0.5, 'clf__estimator__loss': 'hinge', 'clf__estimator__max_iter': 2000}\n",
      "Test accuracy: 0.800952380952381\n",
      "Test F1: 0.7958984375\n",
      "Test AUC: 0.8614512471655329\n",
      "\n",
      "Fold 8:\n"
     ]
    },
    {
     "name": "stderr",
     "output_type": "stream",
     "text": [
      "C:\\Users\\Utente\\anaconda3\\envs\\DMML_project\\Lib\\site-packages\\sklearn\\svm\\_base.py:1235: ConvergenceWarning: Liblinear failed to converge, increase the number of iterations.\n",
      "  warnings.warn(\n",
      "C:\\Users\\Utente\\anaconda3\\envs\\DMML_project\\Lib\\site-packages\\sklearn\\svm\\_base.py:1235: ConvergenceWarning: Liblinear failed to converge, increase the number of iterations.\n",
      "  warnings.warn(\n"
     ]
    },
    {
     "name": "stdout",
     "output_type": "stream",
     "text": [
      "Best params: {'clf__estimator__C': 0.5, 'clf__estimator__loss': 'squared_hinge', 'clf__estimator__max_iter': 2000}\n",
      "Test accuracy: 0.7742857142857142\n",
      "Test F1: 0.7736389684813754\n",
      "Test AUC: 0.8251183673469387\n",
      "\n",
      "Fold 9:\n",
      "Best params: {'clf__estimator__C': 0.5, 'clf__estimator__loss': 'hinge', 'clf__estimator__max_iter': 2000}\n",
      "Test accuracy: 0.7947619047619048\n",
      "Test F1: 0.792289156626506\n",
      "Test AUC: 0.8529215419501134\n",
      "\n",
      "Mean Accuracy: 0.7864761904761906\n",
      "Mean F1: 0.7844342372478539\n",
      "Mean AUC: 0.8424067120181405\n",
      "\n",
      "CalibratedClassifierCV_CountVectorizer_WE\n",
      "Fold 0:\n"
     ]
    },
    {
     "name": "stderr",
     "output_type": "stream",
     "text": [
      "C:\\Users\\Utente\\anaconda3\\envs\\DMML_project\\Lib\\site-packages\\sklearn\\svm\\_base.py:1235: ConvergenceWarning: Liblinear failed to converge, increase the number of iterations.\n",
      "  warnings.warn(\n",
      "C:\\Users\\Utente\\anaconda3\\envs\\DMML_project\\Lib\\site-packages\\sklearn\\svm\\_base.py:1235: ConvergenceWarning: Liblinear failed to converge, increase the number of iterations.\n",
      "  warnings.warn(\n",
      "C:\\Users\\Utente\\anaconda3\\envs\\DMML_project\\Lib\\site-packages\\sklearn\\svm\\_base.py:1235: ConvergenceWarning: Liblinear failed to converge, increase the number of iterations.\n",
      "  warnings.warn(\n"
     ]
    },
    {
     "name": "stdout",
     "output_type": "stream",
     "text": [
      "Best params: {'clf__estimator__C': 0.5, 'clf__estimator__loss': 'hinge', 'clf__estimator__max_iter': 2000}\n",
      "Test accuracy: 0.6090476190476191\n",
      "Test F1: 0.6266484765802638\n",
      "Test AUC: 0.6594358276643991\n",
      "\n",
      "Fold 1:\n",
      "Best params: {'clf__estimator__C': 0.5, 'clf__estimator__loss': 'squared_hinge', 'clf__estimator__max_iter': 4000}\n",
      "Test accuracy: 0.6238095238095238\n",
      "Test F1: 0.6460573476702509\n",
      "Test AUC: 0.6779709750566894\n",
      "\n",
      "Fold 2:\n"
     ]
    },
    {
     "name": "stderr",
     "output_type": "stream",
     "text": [
      "C:\\Users\\Utente\\anaconda3\\envs\\DMML_project\\Lib\\site-packages\\sklearn\\svm\\_base.py:1235: ConvergenceWarning: Liblinear failed to converge, increase the number of iterations.\n",
      "  warnings.warn(\n"
     ]
    },
    {
     "name": "stdout",
     "output_type": "stream",
     "text": [
      "Best params: {'clf__estimator__C': 1, 'clf__estimator__loss': 'hinge', 'clf__estimator__max_iter': 4000}\n",
      "Test accuracy: 0.6233333333333333\n",
      "Test F1: 0.6409441670449387\n",
      "Test AUC: 0.6765460317460318\n",
      "\n",
      "Fold 3:\n"
     ]
    },
    {
     "name": "stderr",
     "output_type": "stream",
     "text": [
      "C:\\Users\\Utente\\anaconda3\\envs\\DMML_project\\Lib\\site-packages\\sklearn\\svm\\_base.py:1235: ConvergenceWarning: Liblinear failed to converge, increase the number of iterations.\n",
      "  warnings.warn(\n",
      "C:\\Users\\Utente\\anaconda3\\envs\\DMML_project\\Lib\\site-packages\\sklearn\\svm\\_base.py:1235: ConvergenceWarning: Liblinear failed to converge, increase the number of iterations.\n",
      "  warnings.warn(\n",
      "C:\\Users\\Utente\\anaconda3\\envs\\DMML_project\\Lib\\site-packages\\sklearn\\svm\\_base.py:1235: ConvergenceWarning: Liblinear failed to converge, increase the number of iterations.\n",
      "  warnings.warn(\n",
      "C:\\Users\\Utente\\anaconda3\\envs\\DMML_project\\Lib\\site-packages\\sklearn\\svm\\_base.py:1235: ConvergenceWarning: Liblinear failed to converge, increase the number of iterations.\n",
      "  warnings.warn(\n"
     ]
    },
    {
     "name": "stdout",
     "output_type": "stream",
     "text": [
      "Best params: {'clf__estimator__C': 0.5, 'clf__estimator__loss': 'hinge', 'clf__estimator__max_iter': 2000}\n",
      "Test accuracy: 0.6223809523809524\n",
      "Test F1: 0.6350667280257708\n",
      "Test AUC: 0.6669514739229025\n",
      "\n",
      "Fold 4:\n"
     ]
    },
    {
     "name": "stderr",
     "output_type": "stream",
     "text": [
      "C:\\Users\\Utente\\anaconda3\\envs\\DMML_project\\Lib\\site-packages\\sklearn\\svm\\_base.py:1235: ConvergenceWarning: Liblinear failed to converge, increase the number of iterations.\n",
      "  warnings.warn(\n",
      "C:\\Users\\Utente\\anaconda3\\envs\\DMML_project\\Lib\\site-packages\\sklearn\\svm\\_base.py:1235: ConvergenceWarning: Liblinear failed to converge, increase the number of iterations.\n",
      "  warnings.warn(\n",
      "C:\\Users\\Utente\\anaconda3\\envs\\DMML_project\\Lib\\site-packages\\sklearn\\svm\\_base.py:1235: ConvergenceWarning: Liblinear failed to converge, increase the number of iterations.\n",
      "  warnings.warn(\n",
      "C:\\Users\\Utente\\anaconda3\\envs\\DMML_project\\Lib\\site-packages\\sklearn\\svm\\_base.py:1235: ConvergenceWarning: Liblinear failed to converge, increase the number of iterations.\n",
      "  warnings.warn(\n"
     ]
    },
    {
     "name": "stdout",
     "output_type": "stream",
     "text": [
      "Best params: {'clf__estimator__C': 0.5, 'clf__estimator__loss': 'hinge', 'clf__estimator__max_iter': 2000}\n",
      "Test accuracy: 0.63\n",
      "Test F1: 0.6469786460699682\n",
      "Test AUC: 0.6677496598639456\n",
      "\n",
      "Fold 5:\n"
     ]
    },
    {
     "name": "stderr",
     "output_type": "stream",
     "text": [
      "C:\\Users\\Utente\\anaconda3\\envs\\DMML_project\\Lib\\site-packages\\sklearn\\svm\\_base.py:1235: ConvergenceWarning: Liblinear failed to converge, increase the number of iterations.\n",
      "  warnings.warn(\n"
     ]
    },
    {
     "name": "stdout",
     "output_type": "stream",
     "text": [
      "Best params: {'clf__estimator__C': 0.5, 'clf__estimator__loss': 'hinge', 'clf__estimator__max_iter': 2000}\n",
      "Test accuracy: 0.6357142857142857\n",
      "Test F1: 0.6479521398987574\n",
      "Test AUC: 0.6922666666666667\n",
      "\n",
      "Fold 6:\n"
     ]
    },
    {
     "name": "stderr",
     "output_type": "stream",
     "text": [
      "C:\\Users\\Utente\\anaconda3\\envs\\DMML_project\\Lib\\site-packages\\sklearn\\svm\\_base.py:1235: ConvergenceWarning: Liblinear failed to converge, increase the number of iterations.\n",
      "  warnings.warn(\n",
      "C:\\Users\\Utente\\anaconda3\\envs\\DMML_project\\Lib\\site-packages\\sklearn\\svm\\_base.py:1235: ConvergenceWarning: Liblinear failed to converge, increase the number of iterations.\n",
      "  warnings.warn(\n"
     ]
    },
    {
     "name": "stdout",
     "output_type": "stream",
     "text": [
      "Best params: {'clf__estimator__C': 0.5, 'clf__estimator__loss': 'hinge', 'clf__estimator__max_iter': 2000}\n",
      "Test accuracy: 0.6114285714285714\n",
      "Test F1: 0.6402116402116402\n",
      "Test AUC: 0.6694131519274377\n",
      "\n",
      "Fold 7:\n"
     ]
    },
    {
     "name": "stderr",
     "output_type": "stream",
     "text": [
      "C:\\Users\\Utente\\anaconda3\\envs\\DMML_project\\Lib\\site-packages\\sklearn\\svm\\_base.py:1235: ConvergenceWarning: Liblinear failed to converge, increase the number of iterations.\n",
      "  warnings.warn(\n",
      "C:\\Users\\Utente\\anaconda3\\envs\\DMML_project\\Lib\\site-packages\\sklearn\\svm\\_base.py:1235: ConvergenceWarning: Liblinear failed to converge, increase the number of iterations.\n",
      "  warnings.warn(\n",
      "C:\\Users\\Utente\\anaconda3\\envs\\DMML_project\\Lib\\site-packages\\sklearn\\svm\\_base.py:1235: ConvergenceWarning: Liblinear failed to converge, increase the number of iterations.\n",
      "  warnings.warn(\n"
     ]
    },
    {
     "name": "stdout",
     "output_type": "stream",
     "text": [
      "Best params: {'clf__estimator__C': 0.5, 'clf__estimator__loss': 'squared_hinge', 'clf__estimator__max_iter': 2000}\n",
      "Test accuracy: 0.6352380952380953\n",
      "Test F1: 0.6549549549549549\n",
      "Test AUC: 0.6693106575963719\n",
      "\n",
      "Fold 8:\n"
     ]
    },
    {
     "name": "stderr",
     "output_type": "stream",
     "text": [
      "C:\\Users\\Utente\\anaconda3\\envs\\DMML_project\\Lib\\site-packages\\sklearn\\svm\\_base.py:1235: ConvergenceWarning: Liblinear failed to converge, increase the number of iterations.\n",
      "  warnings.warn(\n",
      "C:\\Users\\Utente\\anaconda3\\envs\\DMML_project\\Lib\\site-packages\\sklearn\\svm\\_base.py:1235: ConvergenceWarning: Liblinear failed to converge, increase the number of iterations.\n",
      "  warnings.warn(\n",
      "C:\\Users\\Utente\\anaconda3\\envs\\DMML_project\\Lib\\site-packages\\sklearn\\svm\\_base.py:1235: ConvergenceWarning: Liblinear failed to converge, increase the number of iterations.\n",
      "  warnings.warn(\n"
     ]
    },
    {
     "name": "stdout",
     "output_type": "stream",
     "text": [
      "Best params: {'clf__estimator__C': 0.5, 'clf__estimator__loss': 'squared_hinge', 'clf__estimator__max_iter': 2000}\n",
      "Test accuracy: 0.6090476190476191\n",
      "Test F1: 0.6303466906798739\n",
      "Test AUC: 0.6522884353741496\n",
      "\n",
      "Fold 9:\n"
     ]
    },
    {
     "name": "stderr",
     "output_type": "stream",
     "text": [
      "C:\\Users\\Utente\\anaconda3\\envs\\DMML_project\\Lib\\site-packages\\sklearn\\svm\\_base.py:1235: ConvergenceWarning: Liblinear failed to converge, increase the number of iterations.\n",
      "  warnings.warn(\n"
     ]
    },
    {
     "name": "stdout",
     "output_type": "stream",
     "text": [
      "Best params: {'clf__estimator__C': 0.5, 'clf__estimator__loss': 'hinge', 'clf__estimator__max_iter': 2000}\n",
      "Test accuracy: 0.6290476190476191\n",
      "Test F1: 0.6441297396071265\n",
      "Test AUC: 0.6713242630385486\n",
      "\n",
      "Mean Accuracy: 0.6229047619047619\n",
      "Mean F1: 0.6413290530743544\n",
      "Mean AUC: 0.6703257142857143\n",
      "\n",
      "RandomForestClassifier_TfidfVectorizer_WE_VP\n",
      "Fold 0:\n",
      "Best params: {'clf__bootstrap': False, 'clf__criterion': 'entropy', 'clf__max_depth': 20, 'clf__n_estimators': 1000}\n",
      "Test accuracy: 0.8061904761904762\n",
      "Test F1: 0.8013665202537823\n",
      "Test AUC: 0.8638866213151927\n",
      "\n",
      "Fold 1:\n",
      "Best params: {'clf__bootstrap': False, 'clf__criterion': 'log_loss', 'clf__max_depth': 40, 'clf__n_estimators': 1000}\n",
      "Test accuracy: 0.8038095238095239\n",
      "Test F1: 0.7952286282306164\n",
      "Test AUC: 0.8623746031746032\n",
      "\n",
      "Fold 2:\n",
      "Best params: {'clf__bootstrap': False, 'clf__criterion': 'log_loss', 'clf__max_depth': None, 'clf__n_estimators': 1000}\n",
      "Test accuracy: 0.8157142857142857\n",
      "Test F1: 0.810757946210269\n",
      "Test AUC: 0.8671569160997733\n",
      "\n",
      "Fold 3:\n",
      "Best params: {'clf__bootstrap': False, 'clf__criterion': 'log_loss', 'clf__max_depth': 40, 'clf__n_estimators': 1200}\n",
      "Test accuracy: 0.7923809523809524\n",
      "Test F1: 0.7858546168958742\n",
      "Test AUC: 0.86340589569161\n",
      "\n",
      "Fold 4:\n",
      "Best params: {'clf__bootstrap': False, 'clf__criterion': 'entropy', 'clf__max_depth': None, 'clf__n_estimators': 1000}\n",
      "Test accuracy: 0.8142857142857143\n",
      "Test F1: 0.807502467917078\n",
      "Test AUC: 0.8686684807256235\n",
      "\n",
      "Fold 5:\n",
      "Best params: {'clf__bootstrap': True, 'clf__criterion': 'entropy', 'clf__max_depth': None, 'clf__n_estimators': 800}\n",
      "Test accuracy: 0.8176190476190476\n",
      "Test F1: 0.81123706259241\n",
      "Test AUC: 0.8789111111111111\n",
      "\n",
      "Fold 6:\n",
      "Best params: {'clf__bootstrap': True, 'clf__criterion': 'entropy', 'clf__max_depth': 40, 'clf__n_estimators': 1200}\n",
      "Test accuracy: 0.8052380952380952\n",
      "Test F1: 0.7980246913580247\n",
      "Test AUC: 0.8733351473922901\n",
      "\n",
      "Fold 7:\n",
      "Best params: {'clf__bootstrap': False, 'clf__criterion': 'log_loss', 'clf__max_depth': 40, 'clf__n_estimators': 1000}\n",
      "Test accuracy: 0.820952380952381\n",
      "Test F1: 0.8133068520357497\n",
      "Test AUC: 0.8871356009070295\n",
      "\n",
      "Fold 8:\n",
      "Best params: {'clf__bootstrap': True, 'clf__criterion': 'entropy', 'clf__max_depth': 60, 'clf__n_estimators': 1200}\n",
      "Test accuracy: 0.7933333333333333\n",
      "Test F1: 0.7853610286844708\n",
      "Test AUC: 0.8524634920634921\n",
      "\n",
      "Fold 9:\n",
      "Best params: {'clf__bootstrap': False, 'clf__criterion': 'log_loss', 'clf__max_depth': None, 'clf__n_estimators': 800}\n",
      "Test accuracy: 0.8047619047619048\n",
      "Test F1: 0.8009708737864077\n",
      "Test AUC: 0.8654195011337869\n",
      "\n",
      "Mean Accuracy: 0.8074285714285715\n",
      "Mean F1: 0.8009610687964683\n",
      "Mean AUC: 0.8682757369614512\n",
      "\n",
      "RandomForestClassifier_TfidfVectorizer_WE\n",
      "Fold 0:\n",
      "Best params: {'clf__bootstrap': True, 'clf__criterion': 'log_loss', 'clf__max_depth': None, 'clf__n_estimators': 1200}\n",
      "Test accuracy: 0.6457142857142857\n",
      "Test F1: 0.6529850746268657\n",
      "Test AUC: 0.6906839002267574\n",
      "\n",
      "Fold 1:\n",
      "Best params: {'clf__bootstrap': True, 'clf__criterion': 'entropy', 'clf__max_depth': 60, 'clf__n_estimators': 800}\n",
      "Test accuracy: 0.6395238095238095\n",
      "Test F1: 0.6496992133271634\n",
      "Test AUC: 0.7056780045351474\n",
      "\n",
      "Fold 2:\n",
      "Best params: {'clf__bootstrap': False, 'clf__criterion': 'entropy', 'clf__max_depth': None, 'clf__n_estimators': 800}\n",
      "Test accuracy: 0.6319047619047619\n",
      "Test F1: 0.6429561200923788\n",
      "Test AUC: 0.6890312925170068\n",
      "\n",
      "Fold 3:\n",
      "Best params: {'clf__bootstrap': True, 'clf__criterion': 'log_loss', 'clf__max_depth': 60, 'clf__n_estimators': 1000}\n",
      "Test accuracy: 0.6419047619047619\n",
      "Test F1: 0.6559926806953339\n",
      "Test AUC: 0.6991891156462585\n",
      "\n",
      "Fold 4:\n",
      "Best params: {'clf__bootstrap': False, 'clf__criterion': 'entropy', 'clf__max_depth': 20, 'clf__n_estimators': 800}\n",
      "Test accuracy: 0.6304761904761905\n",
      "Test F1: 0.6427255985267035\n",
      "Test AUC: 0.6948190476190476\n",
      "\n",
      "Fold 5:\n",
      "Best params: {'clf__bootstrap': True, 'clf__criterion': 'log_loss', 'clf__max_depth': 20, 'clf__n_estimators': 800}\n",
      "Test accuracy: 0.659047619047619\n",
      "Test F1: 0.6724611161939615\n",
      "Test AUC: 0.7202140589569161\n",
      "\n",
      "Fold 6:\n",
      "Best params: {'clf__bootstrap': False, 'clf__criterion': 'entropy', 'clf__max_depth': 60, 'clf__n_estimators': 1200}\n",
      "Test accuracy: 0.6328571428571429\n",
      "Test F1: 0.6445366528354081\n",
      "Test AUC: 0.701902947845805\n",
      "\n",
      "Fold 7:\n",
      "Best params: {'clf__bootstrap': False, 'clf__criterion': 'log_loss', 'clf__max_depth': 60, 'clf__n_estimators': 1200}\n",
      "Test accuracy: 0.6523809523809524\n",
      "Test F1: 0.6623496762257169\n",
      "Test AUC: 0.7174195011337868\n",
      "\n",
      "Fold 8:\n",
      "Best params: {'clf__bootstrap': False, 'clf__criterion': 'log_loss', 'clf__max_depth': 60, 'clf__n_estimators': 800}\n",
      "Test accuracy: 0.6338095238095238\n",
      "Test F1: 0.6444752658344891\n",
      "Test AUC: 0.6922195011337868\n",
      "\n",
      "Fold 9:\n",
      "Best params: {'clf__bootstrap': True, 'clf__criterion': 'log_loss', 'clf__max_depth': 60, 'clf__n_estimators': 800}\n",
      "Test accuracy: 0.6204761904761905\n",
      "Test F1: 0.6287843502561714\n",
      "Test AUC: 0.6771192743764172\n",
      "\n",
      "Mean Accuracy: 0.6388095238095238\n",
      "Mean F1: 0.6496965748614192\n",
      "Mean AUC: 0.6988276643990929\n",
      "\n",
      "RandomForestClassifier_CountVectorizer_WE_VP\n",
      "Fold 0:\n",
      "Best params: {'clf__bootstrap': True, 'clf__criterion': 'entropy', 'clf__max_depth': 60, 'clf__n_estimators': 1000}\n",
      "Test accuracy: 0.8023809523809524\n",
      "Test F1: 0.7958681751106739\n",
      "Test AUC: 0.8591473922902494\n",
      "\n",
      "Fold 1:\n",
      "Best params: {'clf__bootstrap': False, 'clf__criterion': 'log_loss', 'clf__max_depth': 60, 'clf__n_estimators': 800}\n",
      "Test accuracy: 0.8028571428571428\n",
      "Test F1: 0.793\n",
      "Test AUC: 0.864659410430839\n",
      "\n",
      "Fold 2:\n",
      "Best params: {'clf__bootstrap': False, 'clf__criterion': 'log_loss', 'clf__max_depth': None, 'clf__n_estimators': 1200}\n",
      "Test accuracy: 0.8104761904761905\n",
      "Test F1: 0.8041338582677166\n",
      "Test AUC: 0.866087074829932\n",
      "\n",
      "Fold 3:\n",
      "Best params: {'clf__bootstrap': True, 'clf__criterion': 'log_loss', 'clf__max_depth': 40, 'clf__n_estimators': 1200}\n",
      "Test accuracy: 0.7933333333333333\n",
      "Test F1: 0.7845084409136047\n",
      "Test AUC: 0.8612816326530613\n",
      "\n",
      "Fold 4:\n",
      "Best params: {'clf__bootstrap': True, 'clf__criterion': 'entropy', 'clf__max_depth': 40, 'clf__n_estimators': 800}\n",
      "Test accuracy: 0.8085714285714286\n",
      "Test F1: 0.800990099009901\n",
      "Test AUC: 0.8649188208616779\n",
      "\n",
      "Fold 5:\n",
      "Best params: {'clf__bootstrap': False, 'clf__criterion': 'entropy', 'clf__max_depth': 40, 'clf__n_estimators': 1000}\n",
      "Test accuracy: 0.8180952380952381\n",
      "Test F1: 0.809\n",
      "Test AUC: 0.8764036281179138\n",
      "\n",
      "Fold 6:\n",
      "Best params: {'clf__bootstrap': True, 'clf__criterion': 'log_loss', 'clf__max_depth': 40, 'clf__n_estimators': 1000}\n",
      "Test accuracy: 0.8023809523809524\n",
      "Test F1: 0.7948591201186357\n",
      "Test AUC: 0.8701333333333333\n",
      "\n",
      "Fold 7:\n",
      "Best params: {'clf__bootstrap': False, 'clf__criterion': 'log_loss', 'clf__max_depth': None, 'clf__n_estimators': 1200}\n",
      "Test accuracy: 0.8238095238095238\n",
      "Test F1: 0.815\n",
      "Test AUC: 0.8895882086167801\n",
      "\n",
      "Fold 8:\n",
      "Best params: {'clf__bootstrap': True, 'clf__criterion': 'entropy', 'clf__max_depth': None, 'clf__n_estimators': 1200}\n",
      "Test accuracy: 0.7933333333333333\n",
      "Test F1: 0.783\n",
      "Test AUC: 0.851481179138322\n",
      "\n",
      "Fold 9:\n",
      "Best params: {'clf__bootstrap': False, 'clf__criterion': 'entropy', 'clf__max_depth': 40, 'clf__n_estimators': 800}\n",
      "Test accuracy: 0.799047619047619\n",
      "Test F1: 0.7931372549019607\n",
      "Test AUC: 0.8624208616780045\n",
      "\n",
      "Mean Accuracy: 0.8054285714285714\n",
      "Mean F1: 0.7973496948322493\n",
      "Mean AUC: 0.8666121541950114\n",
      "\n",
      "RandomForestClassifier_CountVectorizer_WE\n",
      "Fold 0:\n",
      "Best params: {'clf__bootstrap': True, 'clf__criterion': 'log_loss', 'clf__max_depth': None, 'clf__n_estimators': 800}\n",
      "Test accuracy: 0.6295238095238095\n",
      "Test F1: 0.6440988106129918\n",
      "Test AUC: 0.6816108843537414\n",
      "\n",
      "Fold 1:\n",
      "Best params: {'clf__bootstrap': True, 'clf__criterion': 'entropy', 'clf__max_depth': 60, 'clf__n_estimators': 800}\n",
      "Test accuracy: 0.6409523809523809\n",
      "Test F1: 0.6603603603603604\n",
      "Test AUC: 0.6977133786848072\n",
      "\n",
      "Fold 2:\n",
      "Best params: {'clf__bootstrap': True, 'clf__criterion': 'entropy', 'clf__max_depth': 60, 'clf__n_estimators': 1000}\n",
      "Test accuracy: 0.6157142857142858\n",
      "Test F1: 0.6320109439124487\n",
      "Test AUC: 0.6715900226757369\n",
      "\n",
      "Fold 3:\n"
     ]
    },
    {
     "name": "stderr",
     "output_type": "stream",
     "text": [
      "C:\\Users\\Utente\\anaconda3\\envs\\DMML_project\\Lib\\site-packages\\joblib\\externals\\loky\\process_executor.py:752: UserWarning: A worker stopped while some jobs were given to the executor. This can be caused by a too short worker timeout or by a memory leak.\n",
      "  warnings.warn(\n"
     ]
    },
    {
     "name": "stdout",
     "output_type": "stream",
     "text": [
      "Best params: {'clf__bootstrap': False, 'clf__criterion': 'entropy', 'clf__max_depth': None, 'clf__n_estimators': 800}\n",
      "Test accuracy: 0.6252380952380953\n",
      "Test F1: 0.6408032861706983\n",
      "Test AUC: 0.6854648526077097\n",
      "\n",
      "Fold 4:\n",
      "Best params: {'clf__bootstrap': True, 'clf__criterion': 'log_loss', 'clf__max_depth': 60, 'clf__n_estimators': 1000}\n",
      "Test accuracy: 0.6290476190476191\n",
      "Test F1: 0.6473517428700769\n",
      "Test AUC: 0.6841714285714287\n",
      "\n",
      "Fold 5:\n",
      "Best params: {'clf__bootstrap': True, 'clf__criterion': 'entropy', 'clf__max_depth': 60, 'clf__n_estimators': 1000}\n",
      "Test accuracy: 0.6552380952380953\n",
      "Test F1: 0.6735798016230838\n",
      "Test AUC: 0.7116507936507936\n",
      "\n",
      "Fold 6:\n",
      "Best params: {'clf__bootstrap': False, 'clf__criterion': 'log_loss', 'clf__max_depth': 60, 'clf__n_estimators': 800}\n",
      "Test accuracy: 0.6352380952380953\n",
      "Test F1: 0.655884995507637\n",
      "Test AUC: 0.688843537414966\n",
      "\n",
      "Fold 7:\n"
     ]
    },
    {
     "name": "stderr",
     "output_type": "stream",
     "text": [
      "C:\\Users\\Utente\\anaconda3\\envs\\DMML_project\\Lib\\site-packages\\joblib\\externals\\loky\\process_executor.py:752: UserWarning: A worker stopped while some jobs were given to the executor. This can be caused by a too short worker timeout or by a memory leak.\n",
      "  warnings.warn(\n"
     ]
    },
    {
     "name": "stdout",
     "output_type": "stream",
     "text": [
      "Best params: {'clf__bootstrap': False, 'clf__criterion': 'log_loss', 'clf__max_depth': 60, 'clf__n_estimators': 1000}\n",
      "Test accuracy: 0.6452380952380953\n",
      "Test F1: 0.6596619460941069\n",
      "Test AUC: 0.7080172335600907\n",
      "\n",
      "Fold 8:\n",
      "Best params: {'clf__bootstrap': False, 'clf__criterion': 'log_loss', 'clf__max_depth': 60, 'clf__n_estimators': 1200}\n",
      "Test accuracy: 0.6242857142857143\n",
      "Test F1: 0.6434704021690013\n",
      "Test AUC: 0.6763011337868481\n",
      "\n",
      "Fold 9:\n",
      "Best params: {'clf__bootstrap': True, 'clf__criterion': 'entropy', 'clf__max_depth': 60, 'clf__n_estimators': 1200}\n",
      "Test accuracy: 0.611904761904762\n",
      "Test F1: 0.6273433927754916\n",
      "Test AUC: 0.6655673469387755\n",
      "\n",
      "Mean Accuracy: 0.6312380952380952\n",
      "Mean F1: 0.6484565682095896\n",
      "Mean AUC: 0.6870930612244898\n",
      "\n"
     ]
    },
    {
     "data": {
      "text/plain": [
       "['models/best_model_2.pkl']"
      ]
     },
     "execution_count": 3,
     "metadata": {},
     "output_type": "execute_result"
    }
   ],
   "execution_count": 3
  },
  {
   "metadata": {},
   "cell_type": "markdown",
   "source": "## Statistical comparison",
   "id": "2ab1edab86f4488"
  },
  {
   "metadata": {},
   "cell_type": "markdown",
   "source": "Test normality",
   "id": "4a996aafb5b58482"
  },
  {
   "metadata": {
    "ExecuteTime": {
     "end_time": "2024-09-17T20:20:24.157403Z",
     "start_time": "2024-09-17T20:20:13.860047Z"
    }
   },
   "cell_type": "code",
   "source": [
    "df = pd.read_csv('../data/amazon_reviews.txt', sep='\\t')\n",
    "df['VERIFIED_PURCHASE'] = df['VERIFIED_PURCHASE'].map({'Y': 1, 'N': 0})\n",
    "\n",
    "word2vec_model_file = '../models/word2vec_100.model'\n",
    "model = Word2Vec.load(word2vec_model_file)\n",
    "\n",
    "def average_word_embeddings(sentence, model):\n",
    "    words = LemmaTokenizer()(sentence)\n",
    "    word_vectors = [model.wv[word] for word in words if word in model.wv]\n",
    "    \n",
    "    if len(word_vectors) == 0:\n",
    "        return np.zeros(model.vector_size)\n",
    "    \n",
    "    return np.mean(word_vectors, axis=0)\n",
    "\n",
    "# Define a function to process each review\n",
    "def process_review(review_text, model):\n",
    "    sentences = sent_tokenize(review_text)\n",
    "    sentence_embeddings = [average_word_embeddings(sentence, model) for sentence in sentences]\n",
    "    return sentence_embeddings\n",
    "\n",
    "df['Sentence_Embeddings'] = df['REVIEW_TEXT'].apply(lambda x: process_review(x, model))"
   ],
   "id": "789cf2a592a87b1",
   "outputs": [
    {
     "name": "stderr",
     "output_type": "stream",
     "text": [
      "E:\\PycharmProjects\\amazon_fake_reviews_detection\\utils\\text_preprocess.py:28: MarkupResemblesLocatorWarning: The input looks more like a filename than markup. You may want to open this file and pass the filehandle into Beautiful Soup.\n",
      "  text = BeautifulSoup(text, \"html.parser\").get_text()\n"
     ]
    }
   ],
   "execution_count": 8
  },
  {
   "metadata": {
    "ExecuteTime": {
     "end_time": "2024-09-17T20:39:00.580350Z",
     "start_time": "2024-09-17T20:20:24.242190Z"
    }
   },
   "cell_type": "code",
   "source": [
    "from sklearn.model_selection import RepeatedStratifiedKFold\n",
    "from scipy import stats\n",
    "from sklearn.ensemble import RandomForestClassifier\n",
    "import seaborn as sns\n",
    "import matplotlib.pyplot as plt\n",
    "\n",
    "model1 = Pipeline([\n",
    "    ('preprocessor', ColumnTransformer([\n",
    "        ('vectorizer', TfidfVectorizer(tokenizer=LemmaTokenizer(), token_pattern=None), 'REVIEW_TEXT'),\n",
    "        ('vp', OneHotEncoder(), ['VERIFIED_PURCHASE']),\n",
    "        ('embeddings', SentenceEmbeddingTransformer(), 'Sentence_Embeddings'),\n",
    "    ], n_jobs=-1)),\n",
    "    ('clf', RandomForestClassifier(random_state=42, n_jobs=-1, bootstrap= False, criterion= 'log_loss', max_depth= None, n_estimators= 800)),\n",
    "])\n",
    "model2 = Pipeline([\n",
    "    ('preprocessor', ColumnTransformer([\n",
    "        ('vectorizer', TfidfVectorizer(tokenizer=LemmaTokenizer(), token_pattern=None), 'REVIEW_TEXT'),\n",
    "        ('vp', OneHotEncoder(), ['VERIFIED_PURCHASE']),\n",
    "    ], n_jobs=-1)),\n",
    "    ('clf', RandomForestClassifier(random_state=42, n_jobs=-1, bootstrap= False, criterion= 'log_loss', max_depth= 60, n_estimators= 800)),\n",
    "])\n",
    "\n",
    "rkf = RepeatedStratifiedKFold(n_splits=10, n_repeats=3, random_state=42)\n",
    "\n",
    "# Store the differences between model performances\n",
    "differences = []\n",
    "\n",
    "for train_index, test_index in rkf.split(df, df['LABEL']):\n",
    "    # Split the data\n",
    "    X_train, X_test = df.iloc[train_index], df.iloc[test_index]\n",
    "    y_train, y_test = df['LABEL'].iloc[train_index], df['LABEL'].iloc[test_index]\n",
    "\n",
    "    model1.fit(X_train, y_train)\n",
    "    model2.fit(X_train, y_train)\n",
    "    \n",
    "    y_pred1 = model1.predict(X_test)\n",
    "    y_pred2 = model2.predict(X_test)\n",
    "    \n",
    "    acc1 = accuracy_score(y_test, y_pred1)\n",
    "    acc2 = accuracy_score(y_test, y_pred2)\n",
    "    \n",
    "    differences.append(acc1 - acc2)\n",
    "\n",
    "differences = np.array(differences)\n",
    "\n",
    "# Histogram\n",
    "sns.histplot(differences, kde=True)\n",
    "plt.show()\n",
    "\n",
    "# Q-Q plot\n",
    "stats.probplot(differences, dist=\"norm\", plot=plt)\n",
    "plt.show()"
   ],
   "id": "e2b92b527993f399",
   "outputs": [
    {
     "data": {
      "text/plain": [
       "<Figure size 640x480 with 1 Axes>"
      ],
      "image/png": "[encoded data removed]"
     },
     "metadata": {},
     "output_type": "display_data"
    },
    {
     "data": {
      "text/plain": [
       "<Figure size 640x480 with 1 Axes>"
      ],
      "image/png": "[encoded data removed]"
     },
     "metadata": {},
     "output_type": "display_data"
    }
   ],
   "execution_count": 9
  },
  {
   "metadata": {},
   "cell_type": "markdown",
   "source": "Perform Wilcoxon signed-rank test",
   "id": "1303ec3bbb44b95b"
  },
  {
   "metadata": {
    "ExecuteTime": {
     "end_time": "2024-09-17T20:39:36.502732Z",
     "start_time": "2024-09-17T20:39:36.498810Z"
    }
   },
   "cell_type": "code",
   "source": [
    "from scipy.stats import wilcoxon\n",
    "\n",
    "w_p_value = wilcoxon(differences)\n",
    "print('Wilcoxon signed-rank test p-value:', w_p_value)"
   ],
   "id": "4e86454c934b225e",
   "outputs": [
    {
     "name": "stdout",
     "output_type": "stream",
     "text": [
      "Wilcoxon signed-rank test p-value: WilcoxonResult(statistic=194.5, pvalue=0.4399667661637068)\n"
     ]
    }
   ],
   "execution_count": 12
  }
 ],
 "metadata": {
  "kernelspec": {
   "display_name": "Python 3",
   "language": "python",
   "name": "python3"
  },
  "language_info": {
   "codemirror_mode": {
    "name": "ipython",
    "version": 2
   },
   "file_extension": ".py",
   "mimetype": "text/x-python",
   "name": "python",
   "nbconvert_exporter": "python",
   "pygments_lexer": "ipython2",
   "version": "2.7.6"
  }
 },
 "nbformat": 4,
 "nbformat_minor": 5
}
