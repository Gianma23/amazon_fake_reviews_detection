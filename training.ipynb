{
 "cells": [
  {
   "metadata": {},
   "cell_type": "markdown",
   "source": "# Model Training",
   "id": "406a275748fc4ae1"
  },
  {
   "metadata": {},
   "cell_type": "markdown",
   "source": "Prepare dataframe ",
   "id": "5185c4c214683a8a"
  },
  {
   "metadata": {
    "ExecuteTime": {
     "end_time": "2024-09-16T18:23:24.778499Z",
     "start_time": "2024-09-16T18:23:13.052332Z"
    }
   },
   "cell_type": "code",
   "source": [
    "from sklearn.calibration import CalibratedClassifierCV\n",
    "from sklearn.metrics import accuracy_score, f1_score, roc_auc_score\n",
    "from gensim.models import Word2Vec\n",
    "from sklearn.svm import LinearSVC\n",
    "from sklearn.compose import ColumnTransformer\n",
    "from sklearn.preprocessing import OneHotEncoder\n",
    "import pandas as pd\n",
    "from sklearn.pipeline import Pipeline\n",
    "from sklearn.ensemble import RandomForestClassifier\n",
    "from sklearn.feature_extraction.text import CountVectorizer, TfidfVectorizer\n",
    "from utils.text_preprocess import LemmaTokenizer\n",
    "import nltk\n",
    "import numpy as np\n",
    "from nltk.tokenize import sent_tokenize\n",
    "from sklearn.experimental import enable_halving_search_cv\n",
    "\n",
    "nltk.download('stopwords')\n",
    "nltk.download('punkt')\n",
    "nltk.download('punkt_tab')\n",
    "        \n",
    "df = pd.read_csv('data/amazon_reviews.txt', sep='\\t')\n",
    "df['VERIFIED_PURCHASE'] = df['VERIFIED_PURCHASE'].map({'Y': 1, 'N': 0})\n",
    "\n",
    "word2vec_model_file = 'models/word2vec_100_v2.model'\n",
    "model = Word2Vec.load(word2vec_model_file)\n",
    "\n",
    "def average_word_embeddings(sentence, model):\n",
    "    words = LemmaTokenizer()(sentence)\n",
    "    word_vectors = [model.wv[word] for word in words if word in model.wv]\n",
    "    \n",
    "    if len(word_vectors) == 0:\n",
    "        return np.zeros(model.vector_size)\n",
    "    \n",
    "    return np.mean(word_vectors, axis=0)\n",
    "\n",
    "# Define a function to process each review\n",
    "def process_review(review_text, model):\n",
    "    sentences = sent_tokenize(review_text)\n",
    "    sentence_embeddings = [average_word_embeddings(sentence, model) for sentence in sentences]\n",
    "    return sentence_embeddings\n",
    "\n",
    "df['Sentence_Embeddings'] = df['REVIEW_TEXT'].apply(lambda x: process_review(x, model))\n"
   ],
   "id": "9d484cd9e4e6b1c6",
   "outputs": [
    {
     "name": "stderr",
     "output_type": "stream",
     "text": [
      "[nltk_data] Downloading package stopwords to\n",
      "[nltk_data]     C:\\Users\\Utente\\AppData\\Roaming\\nltk_data...\n",
      "[nltk_data]   Package stopwords is already up-to-date!\n",
      "[nltk_data] Downloading package punkt to\n",
      "[nltk_data]     C:\\Users\\Utente\\AppData\\Roaming\\nltk_data...\n",
      "[nltk_data]   Package punkt is already up-to-date!\n",
      "[nltk_data] Downloading package punkt_tab to\n",
      "[nltk_data]     C:\\Users\\Utente\\AppData\\Roaming\\nltk_data...\n",
      "[nltk_data]   Package punkt_tab is already up-to-date!\n",
      "E:\\PycharmProjects\\amazon_fake_reviews_detection\\utils\\text_preprocess.py:28: MarkupResemblesLocatorWarning: The input looks more like a filename than markup. You may want to open this file and pass the filehandle into Beautiful Soup.\n",
      "  text = BeautifulSoup(text, \"html.parser\").get_text()\n"
     ]
    }
   ],
   "execution_count": 1
  },
  {
   "metadata": {},
   "cell_type": "markdown",
   "source": "Create pipelines",
   "id": "51b2984b39e567b6"
  },
  {
   "metadata": {
    "ExecuteTime": {
     "end_time": "2024-09-16T18:23:24.786665Z",
     "start_time": "2024-09-16T18:23:24.781501Z"
    }
   },
   "cell_type": "code",
   "source": [
    "from utils.transformers import *\n",
    "    \n",
    "classifiers = [\n",
    "    CalibratedClassifierCV(LinearSVC(random_state=42, dual=\"auto\")),\n",
    "    RandomForestClassifier(random_state=42, n_jobs=-1),\n",
    "]\n",
    "vectorizers = [\n",
    "    TfidfVectorizer(tokenizer=LemmaTokenizer(), token_pattern=None),\n",
    "    CountVectorizer(tokenizer=LemmaTokenizer(), token_pattern=None),\n",
    "]\n",
    "\n",
    "pipes = []\n",
    "pipes_names = []\n",
    "for clf in classifiers:\n",
    "    for vectorizer in vectorizers:\n",
    "        for useEmbeddings in [True]:\n",
    "            for useVP in [True, False]:\n",
    "                transformers = [\n",
    "                    ('vectorizer', vectorizer, 'REVIEW_TEXT')\n",
    "                ]\n",
    "                if useEmbeddings:\n",
    "                    transformers.append(('embeddings', SentenceEmbeddingTransformer(), 'Sentence_Embeddings'))\n",
    "                if useVP:\n",
    "                    transformers.append(('vp', 'passthrough', ['VERIFIED_PURCHASE']))\n",
    "                \n",
    "                # No need for DenseTransformer for other classifiers\n",
    "                pipes.append(Pipeline([\n",
    "                    ('preprocessor', ColumnTransformer(transformers, n_jobs=-1)),\n",
    "                    ('clf', clf)\n",
    "                ]))\n",
    "                    \n",
    "                pipes_names.append(f'{clf.__class__.__name__}_'\n",
    "                                   f'{vectorizer.__class__.__name__}'\n",
    "                                   f'{\"_WE\" if useEmbeddings else \"\"}'\n",
    "                                   f'{\"_VP\" if useVP else \"\"}')"
   ],
   "id": "b2c4919bcc0b9509",
   "outputs": [],
   "execution_count": 2
  },
  {
   "metadata": {},
   "cell_type": "markdown",
   "source": "Nested cross-validation",
   "id": "9d80d859f9116171"
  },
  {
   "metadata": {
    "ExecuteTime": {
     "end_time": "2024-09-17T04:35:10.769458Z",
     "start_time": "2024-09-16T18:23:24.859645Z"
    }
   },
   "cell_type": "code",
   "source": [
    "from nltk import sent_tokenize\n",
    "import pandas as pd\n",
    "import joblib\n",
    "from sklearn.model_selection import HalvingGridSearchCV, StratifiedKFold\n",
    "from utils.text_preprocess import LemmaTokenizer\n",
    "\n",
    "\n",
    "param_grids = {\n",
    "    'RandomForestClassifier': {\n",
    "        'clf__n_estimators': [800, 1000, 1200],\n",
    "        'clf__criterion': ['entropy', 'log_loss'],\n",
    "        'clf__max_depth': [None, 20, 40, 60],\n",
    "        'clf__bootstrap': [False, True],\n",
    "    },\n",
    "    'CalibratedClassifierCV': {\n",
    "        'clf__estimator__C': [0.5, 1, 1.5],\n",
    "        'clf__estimator__max_iter': [2000, 4000],\n",
    "        'clf__estimator__loss': ['hinge', 'squared_hinge'],\n",
    "    },\n",
    "}\n",
    "\n",
    "inner_cv = StratifiedKFold(n_splits=5, shuffle=True, random_state=42)\n",
    "outer_cv = StratifiedKFold(n_splits=10, shuffle=True, random_state=42)\n",
    "results = {}\n",
    "best_accuracy = 0\n",
    "best_model = None\n",
    "\n",
    "for pipe, pipe_name in zip(pipes, pipes_names):\n",
    "    print(pipe_name)\n",
    "    clf_name = pipe.steps[-1][1].__class__.__name__\n",
    "    grid = param_grids[clf_name]\n",
    "    clf = HalvingGridSearchCV(pipe, grid, cv=inner_cv, factor=3, random_state=42, n_jobs=-1)\n",
    "    results[pipe_name] = [[], [], [], []]\n",
    "    \n",
    "    # Loop instead of cross_val_score to have more control over printing\n",
    "    for fold, (train_idx, test_idx) in enumerate(outer_cv.split(df, df['LABEL'])):\n",
    "        print(f\"Fold {fold}:\")\n",
    "        \n",
    "        # Split the data\n",
    "        X_train, X_test = df.iloc[train_idx], df.iloc[test_idx]\n",
    "        y_train, y_test = df['LABEL'].iloc[train_idx], df['LABEL'].iloc[test_idx]\n",
    "        \n",
    "        clf.fit(X_train, y_train)\n",
    "        y_pred = clf.predict(X_test)\n",
    "        results[pipe_name][0].append(accuracy_score(y_test, y_pred))\n",
    "        results[pipe_name][1].append(f1_score(y_test, y_pred, pos_label='__label1__'))\n",
    "        results[pipe_name][2].append(roc_auc_score(y_test, clf.predict_proba(X_test)[:,1]))\n",
    "        results[pipe_name][3].append(clf.best_params_)\n",
    "        \n",
    "        # Update best model \n",
    "        if results[pipe_name][0][-1] > best_accuracy:\n",
    "            best_accuracy = results[pipe_name][0][-1]\n",
    "            best_model = clf.best_estimator_\n",
    "\n",
    "        print(f\"Best params: {clf.best_params_}\\n\"\n",
    "              f\"Test accuracy: { results[pipe_name][0][-1]}\\n\"\n",
    "              f\"Test F1: { results[pipe_name][1][-1]}\\n\"\n",
    "              f\"Test AUC: { results[pipe_name][2][-1]}\\n\")\n",
    "    \n",
    "    print(f'Mean Accuracy: {np.mean(results[pipe_name][0])}\\n'\n",
    "          f'Mean F1: {np.mean(results[pipe_name][1])}\\n'\n",
    "          f'Mean AUC: {np.mean(results[pipe_name][2])}\\n')\n",
    "\n",
    "# save results to csv file\n",
    "results_str = {key: [str(value) for value in values] for key, values in results.items()}\n",
    "\n",
    "df = pd.DataFrame()\n",
    "for key, value in results_str.items():\n",
    "    temp_df = pd.DataFrame([value], columns=['accuracy', 'f1_score', 'AUC', 'hyperparameters'])\n",
    "    temp_df.insert(0, 'model', key)\n",
    "    df = pd.concat([df, temp_df], ignore_index=True)\n",
    "df.to_csv('results2.csv', index=False)\n",
    "\n",
    "# save best model\n",
    "joblib.dump(best_model, 'models/best_model_2.pkl')"
   ],
   "id": "4e135cda31eea7a1",
   "outputs": [
    {
     "name": "stdout",
     "output_type": "stream",
     "text": [
      "CalibratedClassifierCV_TfidfVectorizer_WE_VP\n",
      "Fold 0:\n",
      "Best params: {'clf__estimator__C': 1, 'clf__estimator__loss': 'hinge', 'clf__estimator__max_iter': 2000}\n",
      "Test accuracy: 0.7985714285714286\n",
      "Test F1: 0.7971223021582734\n",
      "Test AUC: 0.8566149659863946\n",
      "\n",
      "Fold 1:\n",
      "Best params: {'clf__estimator__C': 1, 'clf__estimator__loss': 'hinge', 'clf__estimator__max_iter': 2000}\n",
      "Test accuracy: 0.7985714285714286\n",
      "Test F1: 0.7943607194944093\n",
      "Test AUC: 0.863936507936508\n",
      "\n",
      "Fold 2:\n"
     ]
    },
    {
     "name": "stderr",
     "output_type": "stream",
     "text": [
      "C:\\Users\\Utente\\anaconda3\\envs\\DMML_project\\Lib\\site-packages\\sklearn\\svm\\_base.py:1235: ConvergenceWarning: Liblinear failed to converge, increase the number of iterations.\n",
      "  warnings.warn(\n"
     ]
    },
    {
     "name": "stdout",
     "output_type": "stream",
     "text": [
      "Best params: {'clf__estimator__C': 1, 'clf__estimator__loss': 'hinge', 'clf__estimator__max_iter': 2000}\n",
      "Test accuracy: 0.8080952380952381\n",
      "Test F1: 0.8055957549445248\n",
      "Test AUC: 0.8621886621315193\n",
      "\n",
      "Fold 3:\n",
      "Best params: {'clf__estimator__C': 1, 'clf__estimator__loss': 'hinge', 'clf__estimator__max_iter': 2000}\n",
      "Test accuracy: 0.7980952380952381\n",
      "Test F1: 0.7947725072604066\n",
      "Test AUC: 0.8575210884353742\n",
      "\n",
      "Fold 4:\n"
     ]
    },
    {
     "name": "stderr",
     "output_type": "stream",
     "text": [
      "C:\\Users\\Utente\\anaconda3\\envs\\DMML_project\\Lib\\site-packages\\sklearn\\svm\\_base.py:1235: ConvergenceWarning: Liblinear failed to converge, increase the number of iterations.\n",
      "  warnings.warn(\n"
     ]
    },
    {
     "name": "stdout",
     "output_type": "stream",
     "text": [
      "Best params: {'clf__estimator__C': 1, 'clf__estimator__loss': 'hinge', 'clf__estimator__max_iter': 2000}\n",
      "Test accuracy: 0.8052380952380952\n",
      "Test F1: 0.8023199613339778\n",
      "Test AUC: 0.8658049886621315\n",
      "\n",
      "Fold 5:\n",
      "Best params: {'clf__estimator__C': 1, 'clf__estimator__loss': 'hinge', 'clf__estimator__max_iter': 2000}\n",
      "Test accuracy: 0.8061904761904762\n",
      "Test F1: 0.8005879470847623\n",
      "Test AUC: 0.8754766439909296\n",
      "\n",
      "Fold 6:\n",
      "Best params: {'clf__estimator__C': 0.5, 'clf__estimator__loss': 'squared_hinge', 'clf__estimator__max_iter': 2000}\n",
      "Test accuracy: 0.8033333333333333\n",
      "Test F1: 0.7998061076102763\n",
      "Test AUC: 0.8659555555555555\n",
      "\n",
      "Fold 7:\n"
     ]
    },
    {
     "name": "stderr",
     "output_type": "stream",
     "text": [
      "C:\\Users\\Utente\\anaconda3\\envs\\DMML_project\\Lib\\site-packages\\sklearn\\svm\\_base.py:1235: ConvergenceWarning: Liblinear failed to converge, increase the number of iterations.\n",
      "  warnings.warn(\n"
     ]
    },
    {
     "name": "stdout",
     "output_type": "stream",
     "text": [
      "Best params: {'clf__estimator__C': 1, 'clf__estimator__loss': 'hinge', 'clf__estimator__max_iter': 2000}\n",
      "Test accuracy: 0.8285714285714286\n",
      "Test F1: 0.8249027237354085\n",
      "Test AUC: 0.8822721088435374\n",
      "\n",
      "Fold 8:\n",
      "Best params: {'clf__estimator__C': 1, 'clf__estimator__loss': 'hinge', 'clf__estimator__max_iter': 2000}\n",
      "Test accuracy: 0.7995238095238095\n",
      "Test F1: 0.7957302280446386\n",
      "Test AUC: 0.8502430839002268\n",
      "\n",
      "Fold 9:\n",
      "Best params: {'clf__estimator__C': 1.5, 'clf__estimator__loss': 'hinge', 'clf__estimator__max_iter': 2000}\n",
      "Test accuracy: 0.8080952380952381\n",
      "Test F1: 0.8076372315035799\n",
      "Test AUC: 0.864160544217687\n",
      "\n",
      "Mean Accuracy: 0.8054285714285714\n",
      "Mean F1: 0.8022835483170259\n",
      "Mean AUC: 0.8644174149659865\n",
      "\n",
      "CalibratedClassifierCV_TfidfVectorizer_WE\n",
      "Fold 0:\n",
      "Best params: {'clf__estimator__C': 0.5, 'clf__estimator__loss': 'hinge', 'clf__estimator__max_iter': 2000}\n",
      "Test accuracy: 0.6333333333333333\n",
      "Test F1: 0.6326335877862596\n",
      "Test AUC: 0.6878938775510204\n",
      "\n",
      "Fold 1:\n",
      "Best params: {'clf__estimator__C': 0.5, 'clf__estimator__loss': 'hinge', 'clf__estimator__max_iter': 2000}\n",
      "Test accuracy: 0.6504761904761904\n",
      "Test F1: 0.6570093457943925\n",
      "Test AUC: 0.7067501133786849\n",
      "\n",
      "Fold 2:\n",
      "Best params: {'clf__estimator__C': 0.5, 'clf__estimator__loss': 'hinge', 'clf__estimator__max_iter': 2000}\n",
      "Test accuracy: 0.6366666666666667\n",
      "Test F1: 0.6347534705600766\n",
      "Test AUC: 0.6901097505668934\n",
      "\n",
      "Fold 3:\n",
      "Best params: {'clf__estimator__C': 0.5, 'clf__estimator__loss': 'hinge', 'clf__estimator__max_iter': 2000}\n",
      "Test accuracy: 0.6409523809523809\n",
      "Test F1: 0.6460093896713615\n",
      "Test AUC: 0.6993732426303854\n",
      "\n",
      "Fold 4:\n",
      "Best params: {'clf__estimator__C': 0.5, 'clf__estimator__loss': 'hinge', 'clf__estimator__max_iter': 2000}\n",
      "Test accuracy: 0.6357142857142857\n",
      "Test F1: 0.6382978723404256\n",
      "Test AUC: 0.6914920634920634\n",
      "\n",
      "Fold 5:\n",
      "Best params: {'clf__estimator__C': 0.5, 'clf__estimator__loss': 'hinge', 'clf__estimator__max_iter': 2000}\n",
      "Test accuracy: 0.6661904761904762\n",
      "Test F1: 0.6663493574488338\n",
      "Test AUC: 0.7271138321995465\n",
      "\n",
      "Fold 6:\n",
      "Best params: {'clf__estimator__C': 0.5, 'clf__estimator__loss': 'hinge', 'clf__estimator__max_iter': 2000}\n",
      "Test accuracy: 0.6328571428571429\n",
      "Test F1: 0.6392138511932616\n",
      "Test AUC: 0.6869850340136054\n",
      "\n",
      "Fold 7:\n",
      "Best params: {'clf__estimator__C': 0.5, 'clf__estimator__loss': 'hinge', 'clf__estimator__max_iter': 2000}\n",
      "Test accuracy: 0.6542857142857142\n",
      "Test F1: 0.6546146527117032\n",
      "Test AUC: 0.7057442176870747\n",
      "\n",
      "Fold 8:\n",
      "Best params: {'clf__estimator__C': 0.5, 'clf__estimator__loss': 'hinge', 'clf__estimator__max_iter': 2000}\n",
      "Test accuracy: 0.6261904761904762\n",
      "Test F1: 0.6350534635053463\n",
      "Test AUC: 0.6875356009070295\n",
      "\n",
      "Fold 9:\n",
      "Best params: {'clf__estimator__C': 0.5, 'clf__estimator__loss': 'hinge', 'clf__estimator__max_iter': 2000}\n",
      "Test accuracy: 0.6290476190476191\n",
      "Test F1: 0.6274509803921569\n",
      "Test AUC: 0.6844725623582766\n",
      "\n",
      "Mean Accuracy: 0.6405714285714287\n",
      "Mean F1: 0.6431385971403817\n",
      "Mean AUC: 0.696747029478458\n",
      "\n",
      "CalibratedClassifierCV_TfidfVectorizer_VP\n",
      "Fold 0:\n"
     ]
    },
    {
     "name": "stderr",
     "output_type": "stream",
     "text": [
      "C:\\Users\\Utente\\anaconda3\\envs\\DMML_project\\Lib\\site-packages\\sklearn\\svm\\_base.py:1235: ConvergenceWarning: Liblinear failed to converge, increase the number of iterations.\n",
      "  warnings.warn(\n"
     ]
    },
    {
     "name": "stdout",
     "output_type": "stream",
     "text": [
      "Best params: {'clf__estimator__C': 1, 'clf__estimator__loss': 'hinge', 'clf__estimator__max_iter': 2000}\n",
      "Test accuracy: 0.8004761904761905\n",
      "Test F1: 0.7980722891566265\n",
      "Test AUC: 0.8552108843537416\n",
      "\n",
      "Fold 1:\n",
      "Best params: {'clf__estimator__C': 1.5, 'clf__estimator__loss': 'hinge', 'clf__estimator__max_iter': 2000}\n",
      "Test accuracy: 0.8023809523809524\n",
      "Test F1: 0.7994200096665055\n",
      "Test AUC: 0.8631102040816326\n",
      "\n",
      "Fold 2:\n",
      "Best params: {'clf__estimator__C': 1, 'clf__estimator__loss': 'hinge', 'clf__estimator__max_iter': 2000}\n",
      "Test accuracy: 0.8080952380952381\n",
      "Test F1: 0.8061568061568062\n",
      "Test AUC: 0.8618875283446712\n",
      "\n",
      "Fold 3:\n"
     ]
    },
    {
     "name": "stderr",
     "output_type": "stream",
     "text": [
      "C:\\Users\\Utente\\anaconda3\\envs\\DMML_project\\Lib\\site-packages\\sklearn\\svm\\_base.py:1235: ConvergenceWarning: Liblinear failed to converge, increase the number of iterations.\n",
      "  warnings.warn(\n"
     ]
    },
    {
     "name": "stdout",
     "output_type": "stream",
     "text": [
      "Best params: {'clf__estimator__C': 1, 'clf__estimator__loss': 'hinge', 'clf__estimator__max_iter': 2000}\n",
      "Test accuracy: 0.799047619047619\n",
      "Test F1: 0.7957405614714425\n",
      "Test AUC: 0.8570548752834468\n",
      "\n",
      "Fold 4:\n",
      "Best params: {'clf__estimator__C': 1, 'clf__estimator__loss': 'hinge', 'clf__estimator__max_iter': 2000}\n",
      "Test accuracy: 0.8061904761904762\n",
      "Test F1: 0.803096274794388\n",
      "Test AUC: 0.8658394557823129\n",
      "\n",
      "Fold 5:\n",
      "Best params: {'clf__estimator__C': 0.5, 'clf__estimator__loss': 'squared_hinge', 'clf__estimator__max_iter': 2000}\n",
      "Test accuracy: 0.81\n",
      "Test F1: 0.8064046579330422\n",
      "Test AUC: 0.8730739229024942\n",
      "\n",
      "Fold 6:\n",
      "Best params: {'clf__estimator__C': 1, 'clf__estimator__loss': 'hinge', 'clf__estimator__max_iter': 2000}\n",
      "Test accuracy: 0.8042857142857143\n",
      "Test F1: 0.7976366322008862\n",
      "Test AUC: 0.8684861678004534\n",
      "\n",
      "Fold 7:\n",
      "Best params: {'clf__estimator__C': 1, 'clf__estimator__loss': 'hinge', 'clf__estimator__max_iter': 2000}\n",
      "Test accuracy: 0.8266666666666667\n",
      "Test F1: 0.822265625\n",
      "Test AUC: 0.881443083900227\n",
      "\n",
      "Fold 8:\n",
      "Best params: {'clf__estimator__C': 1, 'clf__estimator__loss': 'hinge', 'clf__estimator__max_iter': 2000}\n",
      "Test accuracy: 0.8014285714285714\n",
      "Test F1: 0.797277588721439\n",
      "Test AUC: 0.8493206349206349\n",
      "\n",
      "Fold 9:\n",
      "Best params: {'clf__estimator__C': 1, 'clf__estimator__loss': 'hinge', 'clf__estimator__max_iter': 2000}\n",
      "Test accuracy: 0.8033333333333333\n",
      "Test F1: 0.8005794302269436\n",
      "Test AUC: 0.8645886621315193\n",
      "\n",
      "Mean Accuracy: 0.8061904761904761\n",
      "Mean F1: 0.8026649875328079\n",
      "Mean AUC: 0.8640015419501135\n",
      "\n",
      "CalibratedClassifierCV_TfidfVectorizer\n",
      "Fold 0:\n",
      "Best params: {'clf__estimator__C': 1, 'clf__estimator__loss': 'hinge', 'clf__estimator__max_iter': 2000}\n",
      "Test accuracy: 0.6319047619047619\n",
      "Test F1: 0.6310262529832935\n",
      "Test AUC: 0.67956462585034\n",
      "\n",
      "Fold 1:\n",
      "Best params: {'clf__estimator__C': 0.5, 'clf__estimator__loss': 'hinge', 'clf__estimator__max_iter': 2000}\n",
      "Test accuracy: 0.6504761904761904\n",
      "Test F1: 0.6544256120527306\n",
      "Test AUC: 0.7036507936507936\n",
      "\n",
      "Fold 2:\n",
      "Best params: {'clf__estimator__C': 0.5, 'clf__estimator__loss': 'hinge', 'clf__estimator__max_iter': 2000}\n",
      "Test accuracy: 0.6366666666666667\n",
      "Test F1: 0.6361468764902242\n",
      "Test AUC: 0.6893678004535146\n",
      "\n",
      "Fold 3:\n",
      "Best params: {'clf__estimator__C': 0.5, 'clf__estimator__loss': 'hinge', 'clf__estimator__max_iter': 2000}\n",
      "Test accuracy: 0.6447619047619048\n",
      "Test F1: 0.6481132075471698\n",
      "Test AUC: 0.699112925170068\n",
      "\n",
      "Fold 4:\n",
      "Best params: {'clf__estimator__C': 0.5, 'clf__estimator__loss': 'hinge', 'clf__estimator__max_iter': 2000}\n",
      "Test accuracy: 0.6376190476190476\n",
      "Test F1: 0.6398485565546617\n",
      "Test AUC: 0.6917160997732427\n",
      "\n",
      "Fold 5:\n",
      "Best params: {'clf__estimator__C': 0.5, 'clf__estimator__loss': 'hinge', 'clf__estimator__max_iter': 2000}\n",
      "Test accuracy: 0.6666666666666666\n",
      "Test F1: 0.6701225259189444\n",
      "Test AUC: 0.7255419501133787\n",
      "\n",
      "Fold 6:\n",
      "Best params: {'clf__estimator__C': 0.5, 'clf__estimator__loss': 'hinge', 'clf__estimator__max_iter': 2000}\n",
      "Test accuracy: 0.6366666666666667\n",
      "Test F1: 0.6449511400651465\n",
      "Test AUC: 0.6912598639455783\n",
      "\n",
      "Fold 7:\n",
      "Best params: {'clf__estimator__C': 0.5, 'clf__estimator__loss': 'hinge', 'clf__estimator__max_iter': 2000}\n",
      "Test accuracy: 0.6528571428571428\n",
      "Test F1: 0.6500240038406145\n",
      "Test AUC: 0.7043600907029479\n",
      "\n",
      "Fold 8:\n",
      "Best params: {'clf__estimator__C': 0.5, 'clf__estimator__loss': 'hinge', 'clf__estimator__max_iter': 2000}\n",
      "Test accuracy: 0.6290476190476191\n",
      "Test F1: 0.6327204148986327\n",
      "Test AUC: 0.6847065759637189\n",
      "\n",
      "Fold 9:\n",
      "Best params: {'clf__estimator__C': 0.5, 'clf__estimator__loss': 'hinge', 'clf__estimator__max_iter': 2000}\n",
      "Test accuracy: 0.63\n",
      "Test F1: 0.6298237255836112\n",
      "Test AUC: 0.6887473922902494\n",
      "\n",
      "Mean Accuracy: 0.6416666666666667\n",
      "Mean F1: 0.6437202315935029\n",
      "Mean AUC: 0.6958028117913833\n",
      "\n",
      "CalibratedClassifierCV_CountVectorizer_WE_VP\n",
      "Fold 0:\n"
     ]
    },
    {
     "name": "stderr",
     "output_type": "stream",
     "text": [
      "C:\\Users\\Utente\\anaconda3\\envs\\DMML_project\\Lib\\site-packages\\sklearn\\svm\\_base.py:1235: ConvergenceWarning: Liblinear failed to converge, increase the number of iterations.\n",
      "  warnings.warn(\n"
     ]
    },
    {
     "name": "stdout",
     "output_type": "stream",
     "text": [
      "Best params: {'clf__estimator__C': 0.5, 'clf__estimator__loss': 'hinge', 'clf__estimator__max_iter': 2000}\n",
      "Test accuracy: 0.7880952380952381\n",
      "Test F1: 0.7849202513291446\n",
      "Test AUC: 0.8407709750566893\n",
      "\n",
      "Fold 1:\n",
      "Best params: {'clf__estimator__C': 0.5, 'clf__estimator__loss': 'squared_hinge', 'clf__estimator__max_iter': 4000}\n",
      "Test accuracy: 0.780952380952381\n",
      "Test F1: 0.777992277992278\n",
      "Test AUC: 0.8360607709750567\n",
      "\n",
      "Fold 2:\n"
     ]
    },
    {
     "name": "stderr",
     "output_type": "stream",
     "text": [
      "C:\\Users\\Utente\\anaconda3\\envs\\DMML_project\\Lib\\site-packages\\sklearn\\svm\\_base.py:1235: ConvergenceWarning: Liblinear failed to converge, increase the number of iterations.\n",
      "  warnings.warn(\n"
     ]
    },
    {
     "name": "stdout",
     "output_type": "stream",
     "text": [
      "Best params: {'clf__estimator__C': 0.5, 'clf__estimator__loss': 'hinge', 'clf__estimator__max_iter': 4000}\n",
      "Test accuracy: 0.8085714285714286\n",
      "Test F1: 0.804093567251462\n",
      "Test AUC: 0.856671201814059\n",
      "\n",
      "Fold 3:\n",
      "Best params: {'clf__estimator__C': 0.5, 'clf__estimator__loss': 'squared_hinge', 'clf__estimator__max_iter': 4000}\n",
      "Test accuracy: 0.7671428571428571\n",
      "Test F1: 0.7687943262411348\n",
      "Test AUC: 0.8267455782312925\n",
      "\n",
      "Fold 4:\n",
      "Best params: {'clf__estimator__C': 0.5, 'clf__estimator__loss': 'hinge', 'clf__estimator__max_iter': 2000}\n",
      "Test accuracy: 0.7942857142857143\n",
      "Test F1: 0.7909002904162633\n",
      "Test AUC: 0.8480000000000001\n",
      "\n",
      "Fold 5:\n"
     ]
    },
    {
     "name": "stderr",
     "output_type": "stream",
     "text": [
      "C:\\Users\\Utente\\anaconda3\\envs\\DMML_project\\Lib\\site-packages\\sklearn\\svm\\_base.py:1235: ConvergenceWarning: Liblinear failed to converge, increase the number of iterations.\n",
      "  warnings.warn(\n",
      "C:\\Users\\Utente\\anaconda3\\envs\\DMML_project\\Lib\\site-packages\\sklearn\\svm\\_base.py:1235: ConvergenceWarning: Liblinear failed to converge, increase the number of iterations.\n",
      "  warnings.warn(\n"
     ]
    },
    {
     "name": "stdout",
     "output_type": "stream",
     "text": [
      "Best params: {'clf__estimator__C': 0.5, 'clf__estimator__loss': 'squared_hinge', 'clf__estimator__max_iter': 2000}\n",
      "Test accuracy: 0.8\n",
      "Test F1: 0.7967086156824782\n",
      "Test AUC: 0.8531718820861678\n",
      "\n",
      "Fold 6:\n"
     ]
    },
    {
     "name": "stderr",
     "output_type": "stream",
     "text": [
      "C:\\Users\\Utente\\anaconda3\\envs\\DMML_project\\Lib\\site-packages\\sklearn\\svm\\_base.py:1235: ConvergenceWarning: Liblinear failed to converge, increase the number of iterations.\n",
      "  warnings.warn(\n",
      "C:\\Users\\Utente\\anaconda3\\envs\\DMML_project\\Lib\\site-packages\\sklearn\\svm\\_base.py:1235: ConvergenceWarning: Liblinear failed to converge, increase the number of iterations.\n",
      "  warnings.warn(\n",
      "C:\\Users\\Utente\\anaconda3\\envs\\DMML_project\\Lib\\site-packages\\sklearn\\svm\\_base.py:1235: ConvergenceWarning: Liblinear failed to converge, increase the number of iterations.\n",
      "  warnings.warn(\n"
     ]
    },
    {
     "name": "stdout",
     "output_type": "stream",
     "text": [
      "Best params: {'clf__estimator__C': 0.5, 'clf__estimator__loss': 'squared_hinge', 'clf__estimator__max_iter': 2000}\n",
      "Test accuracy: 0.7761904761904762\n",
      "Test F1: 0.7764034253092293\n",
      "Test AUC: 0.8419755102040816\n",
      "\n",
      "Fold 7:\n"
     ]
    },
    {
     "name": "stderr",
     "output_type": "stream",
     "text": [
      "C:\\Users\\Utente\\anaconda3\\envs\\DMML_project\\Lib\\site-packages\\sklearn\\svm\\_base.py:1235: ConvergenceWarning: Liblinear failed to converge, increase the number of iterations.\n",
      "  warnings.warn(\n"
     ]
    },
    {
     "name": "stdout",
     "output_type": "stream",
     "text": [
      "Best params: {'clf__estimator__C': 0.5, 'clf__estimator__loss': 'hinge', 'clf__estimator__max_iter': 2000}\n",
      "Test accuracy: 0.800952380952381\n",
      "Test F1: 0.7964946445959105\n",
      "Test AUC: 0.8620190476190476\n",
      "\n",
      "Fold 8:\n"
     ]
    },
    {
     "name": "stderr",
     "output_type": "stream",
     "text": [
      "C:\\Users\\Utente\\anaconda3\\envs\\DMML_project\\Lib\\site-packages\\sklearn\\svm\\_base.py:1235: ConvergenceWarning: Liblinear failed to converge, increase the number of iterations.\n",
      "  warnings.warn(\n"
     ]
    },
    {
     "name": "stdout",
     "output_type": "stream",
     "text": [
      "Best params: {'clf__estimator__C': 0.5, 'clf__estimator__loss': 'squared_hinge', 'clf__estimator__max_iter': 2000}\n",
      "Test accuracy: 0.7747619047619048\n",
      "Test F1: 0.7729236677868458\n",
      "Test AUC: 0.8251256235827664\n",
      "\n",
      "Fold 9:\n",
      "Best params: {'clf__estimator__C': 0.5, 'clf__estimator__loss': 'hinge', 'clf__estimator__max_iter': 2000}\n",
      "Test accuracy: 0.7957142857142857\n",
      "Test F1: 0.7934520943668752\n",
      "Test AUC: 0.8527573696145125\n",
      "\n",
      "Mean Accuracy: 0.7886666666666666\n",
      "Mean F1: 0.7862683160971622\n",
      "Mean AUC: 0.8443297959183674\n",
      "\n",
      "CalibratedClassifierCV_CountVectorizer_WE\n",
      "Fold 0:\n"
     ]
    },
    {
     "name": "stderr",
     "output_type": "stream",
     "text": [
      "C:\\Users\\Utente\\anaconda3\\envs\\DMML_project\\Lib\\site-packages\\sklearn\\svm\\_base.py:1235: ConvergenceWarning: Liblinear failed to converge, increase the number of iterations.\n",
      "  warnings.warn(\n",
      "C:\\Users\\Utente\\anaconda3\\envs\\DMML_project\\Lib\\site-packages\\sklearn\\svm\\_base.py:1235: ConvergenceWarning: Liblinear failed to converge, increase the number of iterations.\n",
      "  warnings.warn(\n",
      "C:\\Users\\Utente\\anaconda3\\envs\\DMML_project\\Lib\\site-packages\\sklearn\\svm\\_base.py:1235: ConvergenceWarning: Liblinear failed to converge, increase the number of iterations.\n",
      "  warnings.warn(\n"
     ]
    },
    {
     "name": "stdout",
     "output_type": "stream",
     "text": [
      "Best params: {'clf__estimator__C': 0.5, 'clf__estimator__loss': 'hinge', 'clf__estimator__max_iter': 2000}\n",
      "Test accuracy: 0.6114285714285714\n",
      "Test F1: 0.631768953068592\n",
      "Test AUC: 0.6597124716553286\n",
      "\n",
      "Fold 1:\n"
     ]
    },
    {
     "name": "stderr",
     "output_type": "stream",
     "text": [
      "C:\\Users\\Utente\\anaconda3\\envs\\DMML_project\\Lib\\site-packages\\sklearn\\svm\\_base.py:1235: ConvergenceWarning: Liblinear failed to converge, increase the number of iterations.\n",
      "  warnings.warn(\n"
     ]
    },
    {
     "name": "stdout",
     "output_type": "stream",
     "text": [
      "Best params: {'clf__estimator__C': 0.5, 'clf__estimator__loss': 'hinge', 'clf__estimator__max_iter': 4000}\n",
      "Test accuracy: 0.6366666666666667\n",
      "Test F1: 0.6598305840392331\n",
      "Test AUC: 0.6914993197278911\n",
      "\n",
      "Fold 2:\n"
     ]
    },
    {
     "name": "stderr",
     "output_type": "stream",
     "text": [
      "C:\\Users\\Utente\\anaconda3\\envs\\DMML_project\\Lib\\site-packages\\sklearn\\svm\\_base.py:1235: ConvergenceWarning: Liblinear failed to converge, increase the number of iterations.\n",
      "  warnings.warn(\n",
      "C:\\Users\\Utente\\anaconda3\\envs\\DMML_project\\Lib\\site-packages\\sklearn\\svm\\_base.py:1235: ConvergenceWarning: Liblinear failed to converge, increase the number of iterations.\n",
      "  warnings.warn(\n"
     ]
    },
    {
     "name": "stdout",
     "output_type": "stream",
     "text": [
      "Best params: {'clf__estimator__C': 1, 'clf__estimator__loss': 'squared_hinge', 'clf__estimator__max_iter': 4000}\n",
      "Test accuracy: 0.6161904761904762\n",
      "Test F1: 0.6306141154903758\n",
      "Test AUC: 0.6599800453514739\n",
      "\n",
      "Fold 3:\n"
     ]
    },
    {
     "name": "stderr",
     "output_type": "stream",
     "text": [
      "C:\\Users\\Utente\\anaconda3\\envs\\DMML_project\\Lib\\site-packages\\sklearn\\svm\\_base.py:1235: ConvergenceWarning: Liblinear failed to converge, increase the number of iterations.\n",
      "  warnings.warn(\n",
      "C:\\Users\\Utente\\anaconda3\\envs\\DMML_project\\Lib\\site-packages\\sklearn\\svm\\_base.py:1235: ConvergenceWarning: Liblinear failed to converge, increase the number of iterations.\n",
      "  warnings.warn(\n",
      "C:\\Users\\Utente\\anaconda3\\envs\\DMML_project\\Lib\\site-packages\\sklearn\\svm\\_base.py:1235: ConvergenceWarning: Liblinear failed to converge, increase the number of iterations.\n",
      "  warnings.warn(\n",
      "C:\\Users\\Utente\\anaconda3\\envs\\DMML_project\\Lib\\site-packages\\sklearn\\svm\\_base.py:1235: ConvergenceWarning: Liblinear failed to converge, increase the number of iterations.\n",
      "  warnings.warn(\n"
     ]
    },
    {
     "name": "stdout",
     "output_type": "stream",
     "text": [
      "Best params: {'clf__estimator__C': 0.5, 'clf__estimator__loss': 'hinge', 'clf__estimator__max_iter': 2000}\n",
      "Test accuracy: 0.6190476190476191\n",
      "Test F1: 0.635036496350365\n",
      "Test AUC: 0.6660181405895691\n",
      "\n",
      "Fold 4:\n"
     ]
    },
    {
     "name": "stderr",
     "output_type": "stream",
     "text": [
      "C:\\Users\\Utente\\anaconda3\\envs\\DMML_project\\Lib\\site-packages\\sklearn\\svm\\_base.py:1235: ConvergenceWarning: Liblinear failed to converge, increase the number of iterations.\n",
      "  warnings.warn(\n",
      "C:\\Users\\Utente\\anaconda3\\envs\\DMML_project\\Lib\\site-packages\\sklearn\\svm\\_base.py:1235: ConvergenceWarning: Liblinear failed to converge, increase the number of iterations.\n",
      "  warnings.warn(\n"
     ]
    },
    {
     "name": "stdout",
     "output_type": "stream",
     "text": [
      "Best params: {'clf__estimator__C': 0.5, 'clf__estimator__loss': 'hinge', 'clf__estimator__max_iter': 2000}\n",
      "Test accuracy: 0.6266666666666667\n",
      "Test F1: 0.6436363636363637\n",
      "Test AUC: 0.6671909297052153\n",
      "\n",
      "Fold 5:\n"
     ]
    },
    {
     "name": "stderr",
     "output_type": "stream",
     "text": [
      "C:\\Users\\Utente\\anaconda3\\envs\\DMML_project\\Lib\\site-packages\\sklearn\\svm\\_base.py:1235: ConvergenceWarning: Liblinear failed to converge, increase the number of iterations.\n",
      "  warnings.warn(\n"
     ]
    },
    {
     "name": "stdout",
     "output_type": "stream",
     "text": [
      "Best params: {'clf__estimator__C': 0.5, 'clf__estimator__loss': 'hinge', 'clf__estimator__max_iter': 4000}\n",
      "Test accuracy: 0.6323809523809524\n",
      "Test F1: 0.6445672191528545\n",
      "Test AUC: 0.6942467120181406\n",
      "\n",
      "Fold 6:\n"
     ]
    },
    {
     "name": "stderr",
     "output_type": "stream",
     "text": [
      "C:\\Users\\Utente\\anaconda3\\envs\\DMML_project\\Lib\\site-packages\\sklearn\\svm\\_base.py:1235: ConvergenceWarning: Liblinear failed to converge, increase the number of iterations.\n",
      "  warnings.warn(\n"
     ]
    },
    {
     "name": "stdout",
     "output_type": "stream",
     "text": [
      "Best params: {'clf__estimator__C': 0.5, 'clf__estimator__loss': 'squared_hinge', 'clf__estimator__max_iter': 4000}\n",
      "Test accuracy: 0.6128571428571429\n",
      "Test F1: 0.6349348899865289\n",
      "Test AUC: 0.6614639455782313\n",
      "\n",
      "Fold 7:\n"
     ]
    },
    {
     "name": "stderr",
     "output_type": "stream",
     "text": [
      "C:\\Users\\Utente\\anaconda3\\envs\\DMML_project\\Lib\\site-packages\\sklearn\\svm\\_base.py:1235: ConvergenceWarning: Liblinear failed to converge, increase the number of iterations.\n",
      "  warnings.warn(\n",
      "C:\\Users\\Utente\\anaconda3\\envs\\DMML_project\\Lib\\site-packages\\sklearn\\svm\\_base.py:1235: ConvergenceWarning: Liblinear failed to converge, increase the number of iterations.\n",
      "  warnings.warn(\n"
     ]
    },
    {
     "name": "stdout",
     "output_type": "stream",
     "text": [
      "Best params: {'clf__estimator__C': 0.5, 'clf__estimator__loss': 'squared_hinge', 'clf__estimator__max_iter': 2000}\n",
      "Test accuracy: 0.6323809523809524\n",
      "Test F1: 0.6513098464317977\n",
      "Test AUC: 0.6704589569160999\n",
      "\n",
      "Fold 8:\n"
     ]
    },
    {
     "name": "stderr",
     "output_type": "stream",
     "text": [
      "C:\\Users\\Utente\\anaconda3\\envs\\DMML_project\\Lib\\site-packages\\sklearn\\svm\\_base.py:1235: ConvergenceWarning: Liblinear failed to converge, increase the number of iterations.\n",
      "  warnings.warn(\n"
     ]
    },
    {
     "name": "stdout",
     "output_type": "stream",
     "text": [
      "Best params: {'clf__estimator__C': 0.5, 'clf__estimator__loss': 'squared_hinge', 'clf__estimator__max_iter': 4000}\n",
      "Test accuracy: 0.6090476190476191\n",
      "Test F1: 0.630013519603425\n",
      "Test AUC: 0.6551981859410431\n",
      "\n",
      "Fold 9:\n"
     ]
    },
    {
     "name": "stderr",
     "output_type": "stream",
     "text": [
      "C:\\Users\\Utente\\anaconda3\\envs\\DMML_project\\Lib\\site-packages\\sklearn\\svm\\_base.py:1235: ConvergenceWarning: Liblinear failed to converge, increase the number of iterations.\n",
      "  warnings.warn(\n",
      "C:\\Users\\Utente\\anaconda3\\envs\\DMML_project\\Lib\\site-packages\\sklearn\\svm\\_base.py:1235: ConvergenceWarning: Liblinear failed to converge, increase the number of iterations.\n",
      "  warnings.warn(\n"
     ]
    },
    {
     "name": "stdout",
     "output_type": "stream",
     "text": [
      "Best params: {'clf__estimator__C': 0.5, 'clf__estimator__loss': 'hinge', 'clf__estimator__max_iter': 2000}\n",
      "Test accuracy: 0.6285714285714286\n",
      "Test F1: 0.6454545454545455\n",
      "Test AUC: 0.6705877551020408\n",
      "\n",
      "Mean Accuracy: 0.6225238095238096\n",
      "Mean F1: 0.6407166533214081\n",
      "Mean AUC: 0.6696356462585034\n",
      "\n",
      "CalibratedClassifierCV_CountVectorizer_VP\n",
      "Fold 0:\n"
     ]
    },
    {
     "name": "stderr",
     "output_type": "stream",
     "text": [
      "C:\\Users\\Utente\\anaconda3\\envs\\DMML_project\\Lib\\site-packages\\sklearn\\svm\\_base.py:1235: ConvergenceWarning: Liblinear failed to converge, increase the number of iterations.\n",
      "  warnings.warn(\n",
      "C:\\Users\\Utente\\anaconda3\\envs\\DMML_project\\Lib\\site-packages\\sklearn\\svm\\_base.py:1235: ConvergenceWarning: Liblinear failed to converge, increase the number of iterations.\n",
      "  warnings.warn(\n"
     ]
    },
    {
     "name": "stdout",
     "output_type": "stream",
     "text": [
      "Best params: {'clf__estimator__C': 0.5, 'clf__estimator__loss': 'hinge', 'clf__estimator__max_iter': 2000}\n",
      "Test accuracy: 0.7871428571428571\n",
      "Test F1: 0.7839536007733204\n",
      "Test AUC: 0.8386639455782313\n",
      "\n",
      "Fold 1:\n"
     ]
    },
    {
     "name": "stderr",
     "output_type": "stream",
     "text": [
      "C:\\Users\\Utente\\anaconda3\\envs\\DMML_project\\Lib\\site-packages\\sklearn\\svm\\_base.py:1235: ConvergenceWarning: Liblinear failed to converge, increase the number of iterations.\n",
      "  warnings.warn(\n"
     ]
    },
    {
     "name": "stdout",
     "output_type": "stream",
     "text": [
      "Best params: {'clf__estimator__C': 0.5, 'clf__estimator__loss': 'squared_hinge', 'clf__estimator__max_iter': 2000}\n",
      "Test accuracy: 0.78\n",
      "Test F1: 0.7757281553398059\n",
      "Test AUC: 0.8357333333333334\n",
      "\n",
      "Fold 2:\n"
     ]
    },
    {
     "name": "stderr",
     "output_type": "stream",
     "text": [
      "C:\\Users\\Utente\\anaconda3\\envs\\DMML_project\\Lib\\site-packages\\sklearn\\svm\\_base.py:1235: ConvergenceWarning: Liblinear failed to converge, increase the number of iterations.\n",
      "  warnings.warn(\n"
     ]
    },
    {
     "name": "stdout",
     "output_type": "stream",
     "text": [
      "Best params: {'clf__estimator__C': 0.5, 'clf__estimator__loss': 'hinge', 'clf__estimator__max_iter': 2000}\n",
      "Test accuracy: 0.8080952380952381\n",
      "Test F1: 0.8046534173533689\n",
      "Test AUC: 0.8558757369614511\n",
      "\n",
      "Fold 3:\n"
     ]
    },
    {
     "name": "stderr",
     "output_type": "stream",
     "text": [
      "C:\\Users\\Utente\\anaconda3\\envs\\DMML_project\\Lib\\site-packages\\sklearn\\svm\\_base.py:1235: ConvergenceWarning: Liblinear failed to converge, increase the number of iterations.\n",
      "  warnings.warn(\n",
      "C:\\Users\\Utente\\anaconda3\\envs\\DMML_project\\Lib\\site-packages\\sklearn\\svm\\_base.py:1235: ConvergenceWarning: Liblinear failed to converge, increase the number of iterations.\n",
      "  warnings.warn(\n",
      "C:\\Users\\Utente\\anaconda3\\envs\\DMML_project\\Lib\\site-packages\\sklearn\\svm\\_base.py:1235: ConvergenceWarning: Liblinear failed to converge, increase the number of iterations.\n",
      "  warnings.warn(\n"
     ]
    },
    {
     "name": "stdout",
     "output_type": "stream",
     "text": [
      "Best params: {'clf__estimator__C': 0.5, 'clf__estimator__loss': 'hinge', 'clf__estimator__max_iter': 2000}\n",
      "Test accuracy: 0.7980952380952381\n",
      "Test F1: 0.7963496637848223\n",
      "Test AUC: 0.8412081632653061\n",
      "\n",
      "Fold 4:\n"
     ]
    },
    {
     "name": "stderr",
     "output_type": "stream",
     "text": [
      "C:\\Users\\Utente\\anaconda3\\envs\\DMML_project\\Lib\\site-packages\\sklearn\\svm\\_base.py:1235: ConvergenceWarning: Liblinear failed to converge, increase the number of iterations.\n",
      "  warnings.warn(\n"
     ]
    },
    {
     "name": "stdout",
     "output_type": "stream",
     "text": [
      "Best params: {'clf__estimator__C': 0.5, 'clf__estimator__loss': 'hinge', 'clf__estimator__max_iter': 2000}\n",
      "Test accuracy: 0.7961904761904762\n",
      "Test F1: 0.7922330097087379\n",
      "Test AUC: 0.8485197278911565\n",
      "\n",
      "Fold 5:\n"
     ]
    },
    {
     "name": "stderr",
     "output_type": "stream",
     "text": [
      "C:\\Users\\Utente\\anaconda3\\envs\\DMML_project\\Lib\\site-packages\\sklearn\\svm\\_base.py:1235: ConvergenceWarning: Liblinear failed to converge, increase the number of iterations.\n",
      "  warnings.warn(\n",
      "C:\\Users\\Utente\\anaconda3\\envs\\DMML_project\\Lib\\site-packages\\sklearn\\svm\\_base.py:1235: ConvergenceWarning: Liblinear failed to converge, increase the number of iterations.\n",
      "  warnings.warn(\n"
     ]
    },
    {
     "name": "stdout",
     "output_type": "stream",
     "text": [
      "Best params: {'clf__estimator__C': 0.5, 'clf__estimator__loss': 'hinge', 'clf__estimator__max_iter': 2000}\n",
      "Test accuracy: 0.8038095238095239\n",
      "Test F1: 0.798828125\n",
      "Test AUC: 0.8640988662131519\n",
      "\n",
      "Fold 6:\n"
     ]
    },
    {
     "name": "stderr",
     "output_type": "stream",
     "text": [
      "C:\\Users\\Utente\\anaconda3\\envs\\DMML_project\\Lib\\site-packages\\sklearn\\svm\\_base.py:1235: ConvergenceWarning: Liblinear failed to converge, increase the number of iterations.\n",
      "  warnings.warn(\n"
     ]
    },
    {
     "name": "stdout",
     "output_type": "stream",
     "text": [
      "Best params: {'clf__estimator__C': 0.5, 'clf__estimator__loss': 'squared_hinge', 'clf__estimator__max_iter': 2000}\n",
      "Test accuracy: 0.7823809523809524\n",
      "Test F1: 0.7826913932477413\n",
      "Test AUC: 0.8439047619047618\n",
      "\n",
      "Fold 7:\n"
     ]
    },
    {
     "name": "stderr",
     "output_type": "stream",
     "text": [
      "C:\\Users\\Utente\\anaconda3\\envs\\DMML_project\\Lib\\site-packages\\sklearn\\svm\\_base.py:1235: ConvergenceWarning: Liblinear failed to converge, increase the number of iterations.\n",
      "  warnings.warn(\n"
     ]
    },
    {
     "name": "stdout",
     "output_type": "stream",
     "text": [
      "Best params: {'clf__estimator__C': 0.5, 'clf__estimator__loss': 'hinge', 'clf__estimator__max_iter': 2000}\n",
      "Test accuracy: 0.8042857142857143\n",
      "Test F1: 0.8003885381253035\n",
      "Test AUC: 0.8615891156462585\n",
      "\n",
      "Fold 8:\n"
     ]
    },
    {
     "name": "stderr",
     "output_type": "stream",
     "text": [
      "C:\\Users\\Utente\\anaconda3\\envs\\DMML_project\\Lib\\site-packages\\sklearn\\svm\\_base.py:1235: ConvergenceWarning: Liblinear failed to converge, increase the number of iterations.\n",
      "  warnings.warn(\n",
      "C:\\Users\\Utente\\anaconda3\\envs\\DMML_project\\Lib\\site-packages\\sklearn\\svm\\_base.py:1235: ConvergenceWarning: Liblinear failed to converge, increase the number of iterations.\n",
      "  warnings.warn(\n",
      "C:\\Users\\Utente\\anaconda3\\envs\\DMML_project\\Lib\\site-packages\\sklearn\\svm\\_base.py:1235: ConvergenceWarning: Liblinear failed to converge, increase the number of iterations.\n",
      "  warnings.warn(\n"
     ]
    },
    {
     "name": "stdout",
     "output_type": "stream",
     "text": [
      "Best params: {'clf__estimator__C': 0.5, 'clf__estimator__loss': 'squared_hinge', 'clf__estimator__max_iter': 2000}\n",
      "Test accuracy: 0.7819047619047619\n",
      "Test F1: 0.7802303262955854\n",
      "Test AUC: 0.8245251700680273\n",
      "\n",
      "Fold 9:\n",
      "Best params: {'clf__estimator__C': 0.5, 'clf__estimator__loss': 'squared_hinge', 'clf__estimator__max_iter': 2000}\n",
      "Test accuracy: 0.7828571428571428\n",
      "Test F1: 0.7824427480916031\n",
      "Test AUC: 0.8442349206349206\n",
      "\n",
      "Mean Accuracy: 0.7924761904761904\n",
      "Mean F1: 0.7897498977720289\n",
      "Mean AUC: 0.84583537414966\n",
      "\n",
      "CalibratedClassifierCV_CountVectorizer\n",
      "Fold 0:\n"
     ]
    },
    {
     "name": "stderr",
     "output_type": "stream",
     "text": [
      "C:\\Users\\Utente\\anaconda3\\envs\\DMML_project\\Lib\\site-packages\\sklearn\\svm\\_base.py:1235: ConvergenceWarning: Liblinear failed to converge, increase the number of iterations.\n",
      "  warnings.warn(\n",
      "C:\\Users\\Utente\\anaconda3\\envs\\DMML_project\\Lib\\site-packages\\sklearn\\svm\\_base.py:1235: ConvergenceWarning: Liblinear failed to converge, increase the number of iterations.\n",
      "  warnings.warn(\n",
      "C:\\Users\\Utente\\anaconda3\\envs\\DMML_project\\Lib\\site-packages\\sklearn\\svm\\_base.py:1235: ConvergenceWarning: Liblinear failed to converge, increase the number of iterations.\n",
      "  warnings.warn(\n"
     ]
    },
    {
     "name": "stdout",
     "output_type": "stream",
     "text": [
      "Best params: {'clf__estimator__C': 0.5, 'clf__estimator__loss': 'hinge', 'clf__estimator__max_iter': 2000}\n",
      "Test accuracy: 0.6052380952380952\n",
      "Test F1: 0.6205949656750572\n",
      "Test AUC: 0.6534068027210884\n",
      "\n",
      "Fold 1:\n"
     ]
    },
    {
     "name": "stderr",
     "output_type": "stream",
     "text": [
      "C:\\Users\\Utente\\anaconda3\\envs\\DMML_project\\Lib\\site-packages\\sklearn\\svm\\_base.py:1235: ConvergenceWarning: Liblinear failed to converge, increase the number of iterations.\n",
      "  warnings.warn(\n",
      "C:\\Users\\Utente\\anaconda3\\envs\\DMML_project\\Lib\\site-packages\\sklearn\\svm\\_base.py:1235: ConvergenceWarning: Liblinear failed to converge, increase the number of iterations.\n",
      "  warnings.warn(\n",
      "C:\\Users\\Utente\\anaconda3\\envs\\DMML_project\\Lib\\site-packages\\sklearn\\svm\\_base.py:1235: ConvergenceWarning: Liblinear failed to converge, increase the number of iterations.\n",
      "  warnings.warn(\n"
     ]
    },
    {
     "name": "stdout",
     "output_type": "stream",
     "text": [
      "Best params: {'clf__estimator__C': 0.5, 'clf__estimator__loss': 'hinge', 'clf__estimator__max_iter': 2000}\n",
      "Test accuracy: 0.6257142857142857\n",
      "Test F1: 0.648479427549195\n",
      "Test AUC: 0.6804571428571429\n",
      "\n",
      "Fold 2:\n"
     ]
    },
    {
     "name": "stderr",
     "output_type": "stream",
     "text": [
      "C:\\Users\\Utente\\anaconda3\\envs\\DMML_project\\Lib\\site-packages\\sklearn\\svm\\_base.py:1235: ConvergenceWarning: Liblinear failed to converge, increase the number of iterations.\n",
      "  warnings.warn(\n",
      "C:\\Users\\Utente\\anaconda3\\envs\\DMML_project\\Lib\\site-packages\\sklearn\\svm\\_base.py:1235: ConvergenceWarning: Liblinear failed to converge, increase the number of iterations.\n",
      "  warnings.warn(\n",
      "C:\\Users\\Utente\\anaconda3\\envs\\DMML_project\\Lib\\site-packages\\sklearn\\svm\\_base.py:1235: ConvergenceWarning: Liblinear failed to converge, increase the number of iterations.\n",
      "  warnings.warn(\n",
      "C:\\Users\\Utente\\anaconda3\\envs\\DMML_project\\Lib\\site-packages\\sklearn\\svm\\_base.py:1235: ConvergenceWarning: Liblinear failed to converge, increase the number of iterations.\n",
      "  warnings.warn(\n"
     ]
    },
    {
     "name": "stdout",
     "output_type": "stream",
     "text": [
      "Best params: {'clf__estimator__C': 1, 'clf__estimator__loss': 'squared_hinge', 'clf__estimator__max_iter': 2000}\n",
      "Test accuracy: 0.6047619047619047\n",
      "Test F1: 0.6213503649635036\n",
      "Test AUC: 0.6479165532879819\n",
      "\n",
      "Fold 3:\n"
     ]
    },
    {
     "name": "stderr",
     "output_type": "stream",
     "text": [
      "C:\\Users\\Utente\\anaconda3\\envs\\DMML_project\\Lib\\site-packages\\sklearn\\svm\\_base.py:1235: ConvergenceWarning: Liblinear failed to converge, increase the number of iterations.\n",
      "  warnings.warn(\n",
      "C:\\Users\\Utente\\anaconda3\\envs\\DMML_project\\Lib\\site-packages\\sklearn\\svm\\_base.py:1235: ConvergenceWarning: Liblinear failed to converge, increase the number of iterations.\n",
      "  warnings.warn(\n",
      "C:\\Users\\Utente\\anaconda3\\envs\\DMML_project\\Lib\\site-packages\\sklearn\\svm\\_base.py:1235: ConvergenceWarning: Liblinear failed to converge, increase the number of iterations.\n",
      "  warnings.warn(\n"
     ]
    },
    {
     "name": "stdout",
     "output_type": "stream",
     "text": [
      "Best params: {'clf__estimator__C': 0.5, 'clf__estimator__loss': 'hinge', 'clf__estimator__max_iter': 2000}\n",
      "Test accuracy: 0.6204761904761905\n",
      "Test F1: 0.63756252842201\n",
      "Test AUC: 0.6648943310657596\n",
      "\n",
      "Fold 4:\n"
     ]
    },
    {
     "name": "stderr",
     "output_type": "stream",
     "text": [
      "C:\\Users\\Utente\\anaconda3\\envs\\DMML_project\\Lib\\site-packages\\sklearn\\svm\\_base.py:1235: ConvergenceWarning: Liblinear failed to converge, increase the number of iterations.\n",
      "  warnings.warn(\n",
      "C:\\Users\\Utente\\anaconda3\\envs\\DMML_project\\Lib\\site-packages\\sklearn\\svm\\_base.py:1235: ConvergenceWarning: Liblinear failed to converge, increase the number of iterations.\n",
      "  warnings.warn(\n"
     ]
    },
    {
     "name": "stdout",
     "output_type": "stream",
     "text": [
      "Best params: {'clf__estimator__C': 0.5, 'clf__estimator__loss': 'squared_hinge', 'clf__estimator__max_iter': 2000}\n",
      "Test accuracy: 0.6152380952380953\n",
      "Test F1: 0.6370170709793351\n",
      "Test AUC: 0.6532625850340137\n",
      "\n",
      "Fold 5:\n"
     ]
    },
    {
     "name": "stderr",
     "output_type": "stream",
     "text": [
      "C:\\Users\\Utente\\anaconda3\\envs\\DMML_project\\Lib\\site-packages\\sklearn\\svm\\_base.py:1235: ConvergenceWarning: Liblinear failed to converge, increase the number of iterations.\n",
      "  warnings.warn(\n",
      "C:\\Users\\Utente\\anaconda3\\envs\\DMML_project\\Lib\\site-packages\\sklearn\\svm\\_base.py:1235: ConvergenceWarning: Liblinear failed to converge, increase the number of iterations.\n",
      "  warnings.warn(\n",
      "C:\\Users\\Utente\\anaconda3\\envs\\DMML_project\\Lib\\site-packages\\sklearn\\svm\\_base.py:1235: ConvergenceWarning: Liblinear failed to converge, increase the number of iterations.\n",
      "  warnings.warn(\n"
     ]
    },
    {
     "name": "stdout",
     "output_type": "stream",
     "text": [
      "Best params: {'clf__estimator__C': 0.5, 'clf__estimator__loss': 'hinge', 'clf__estimator__max_iter': 2000}\n",
      "Test accuracy: 0.6257142857142857\n",
      "Test F1: 0.6404391582799634\n",
      "Test AUC: 0.6839909297052155\n",
      "\n",
      "Fold 6:\n"
     ]
    },
    {
     "name": "stderr",
     "output_type": "stream",
     "text": [
      "C:\\Users\\Utente\\anaconda3\\envs\\DMML_project\\Lib\\site-packages\\sklearn\\svm\\_base.py:1235: ConvergenceWarning: Liblinear failed to converge, increase the number of iterations.\n",
      "  warnings.warn(\n"
     ]
    },
    {
     "name": "stdout",
     "output_type": "stream",
     "text": [
      "Best params: {'clf__estimator__C': 0.5, 'clf__estimator__loss': 'hinge', 'clf__estimator__max_iter': 2000}\n",
      "Test accuracy: 0.6176190476190476\n",
      "Test F1: 0.6423162583518931\n",
      "Test AUC: 0.6670947845804989\n",
      "\n",
      "Fold 7:\n"
     ]
    },
    {
     "name": "stderr",
     "output_type": "stream",
     "text": [
      "C:\\Users\\Utente\\anaconda3\\envs\\DMML_project\\Lib\\site-packages\\sklearn\\svm\\_base.py:1235: ConvergenceWarning: Liblinear failed to converge, increase the number of iterations.\n",
      "  warnings.warn(\n"
     ]
    },
    {
     "name": "stdout",
     "output_type": "stream",
     "text": [
      "Best params: {'clf__estimator__C': 0.5, 'clf__estimator__loss': 'squared_hinge', 'clf__estimator__max_iter': 2000}\n",
      "Test accuracy: 0.6276190476190476\n",
      "Test F1: 0.6471119133574007\n",
      "Test AUC: 0.6655537414965986\n",
      "\n",
      "Fold 8:\n"
     ]
    },
    {
     "name": "stderr",
     "output_type": "stream",
     "text": [
      "C:\\Users\\Utente\\anaconda3\\envs\\DMML_project\\Lib\\site-packages\\sklearn\\svm\\_base.py:1235: ConvergenceWarning: Liblinear failed to converge, increase the number of iterations.\n",
      "  warnings.warn(\n",
      "C:\\Users\\Utente\\anaconda3\\envs\\DMML_project\\Lib\\site-packages\\sklearn\\svm\\_base.py:1235: ConvergenceWarning: Liblinear failed to converge, increase the number of iterations.\n",
      "  warnings.warn(\n"
     ]
    },
    {
     "name": "stdout",
     "output_type": "stream",
     "text": [
      "Best params: {'clf__estimator__C': 0.5, 'clf__estimator__loss': 'squared_hinge', 'clf__estimator__max_iter': 2000}\n",
      "Test accuracy: 0.6033333333333334\n",
      "Test F1: 0.6232473993668024\n",
      "Test AUC: 0.6470476190476191\n",
      "\n",
      "Fold 9:\n"
     ]
    },
    {
     "name": "stderr",
     "output_type": "stream",
     "text": [
      "C:\\Users\\Utente\\anaconda3\\envs\\DMML_project\\Lib\\site-packages\\sklearn\\svm\\_base.py:1235: ConvergenceWarning: Liblinear failed to converge, increase the number of iterations.\n",
      "  warnings.warn(\n",
      "C:\\Users\\Utente\\anaconda3\\envs\\DMML_project\\Lib\\site-packages\\sklearn\\svm\\_base.py:1235: ConvergenceWarning: Liblinear failed to converge, increase the number of iterations.\n",
      "  warnings.warn(\n"
     ]
    },
    {
     "name": "stdout",
     "output_type": "stream",
     "text": [
      "Best params: {'clf__estimator__C': 0.5, 'clf__estimator__loss': 'hinge', 'clf__estimator__max_iter': 2000}\n",
      "Test accuracy: 0.6252380952380953\n",
      "Test F1: 0.6434073402809243\n",
      "Test AUC: 0.6680997732426304\n",
      "\n",
      "Mean Accuracy: 0.6170952380952381\n",
      "Mean F1: 0.6361526427226084\n",
      "Mean AUC: 0.663172426303855\n",
      "\n",
      "RandomForestClassifier_TfidfVectorizer_WE_VP\n",
      "Fold 0:\n",
      "Best params: {'clf__bootstrap': False, 'clf__criterion': 'entropy', 'clf__max_depth': 60, 'clf__n_estimators': 1200}\n",
      "Test accuracy: 0.8076190476190476\n",
      "Test F1: 0.8036929057337221\n",
      "Test AUC: 0.8686757369614513\n",
      "\n",
      "Fold 1:\n",
      "Best params: {'clf__bootstrap': True, 'clf__criterion': 'entropy', 'clf__max_depth': 60, 'clf__n_estimators': 1200}\n",
      "Test accuracy: 0.8033333333333333\n",
      "Test F1: 0.7956457199406235\n",
      "Test AUC: 0.8578829931972789\n",
      "\n",
      "Fold 2:\n",
      "Best params: {'clf__bootstrap': True, 'clf__criterion': 'log_loss', 'clf__max_depth': 60, 'clf__n_estimators': 1200}\n",
      "Test accuracy: 0.8128571428571428\n",
      "Test F1: 0.8072584600294261\n",
      "Test AUC: 0.8608426303854876\n",
      "\n",
      "Fold 3:\n",
      "Best params: {'clf__bootstrap': False, 'clf__criterion': 'entropy', 'clf__max_depth': 40, 'clf__n_estimators': 1200}\n",
      "Test accuracy: 0.7947619047619048\n",
      "Test F1: 0.7877892663712457\n",
      "Test AUC: 0.8655609977324262\n",
      "\n",
      "Fold 4:\n",
      "Best params: {'clf__bootstrap': False, 'clf__criterion': 'log_loss', 'clf__max_depth': None, 'clf__n_estimators': 1200}\n",
      "Test accuracy: 0.8152380952380952\n",
      "Test F1: 0.8086785009861933\n",
      "Test AUC: 0.8709873015873015\n",
      "\n",
      "Fold 5:\n",
      "Best params: {'clf__bootstrap': True, 'clf__criterion': 'entropy', 'clf__max_depth': 60, 'clf__n_estimators': 1000}\n",
      "Test accuracy: 0.8123809523809524\n",
      "Test F1: 0.8039800995024876\n",
      "Test AUC: 0.8801614512471656\n",
      "\n",
      "Fold 6:\n",
      "Best params: {'clf__bootstrap': True, 'clf__criterion': 'entropy', 'clf__max_depth': 60, 'clf__n_estimators': 1200}\n",
      "Test accuracy: 0.8033333333333333\n",
      "Test F1: 0.7968519429414658\n",
      "Test AUC: 0.8703972789115645\n",
      "\n",
      "Fold 7:\n",
      "Best params: {'clf__bootstrap': False, 'clf__criterion': 'log_loss', 'clf__max_depth': None, 'clf__n_estimators': 800}\n",
      "Test accuracy: 0.8214285714285714\n",
      "Test F1: 0.8140803173029252\n",
      "Test AUC: 0.8848226757369615\n",
      "\n",
      "Fold 8:\n",
      "Best params: {'clf__bootstrap': False, 'clf__criterion': 'entropy', 'clf__max_depth': None, 'clf__n_estimators': 1200}\n",
      "Test accuracy: 0.8004761904761905\n",
      "Test F1: 0.7939006394490901\n",
      "Test AUC: 0.8572285714285713\n",
      "\n",
      "Fold 9:\n",
      "Best params: {'clf__bootstrap': False, 'clf__criterion': 'entropy', 'clf__max_depth': 60, 'clf__n_estimators': 1000}\n",
      "Test accuracy: 0.8038095238095239\n",
      "Test F1: 0.7992202729044834\n",
      "Test AUC: 0.8641605442176871\n",
      "\n",
      "Mean Accuracy: 0.8075238095238095\n",
      "Mean F1: 0.8011098125161663\n",
      "Mean AUC: 0.8680720181405895\n",
      "\n",
      "RandomForestClassifier_TfidfVectorizer_WE\n",
      "Fold 0:\n",
      "Best params: {'clf__bootstrap': False, 'clf__criterion': 'log_loss', 'clf__max_depth': 40, 'clf__n_estimators': 800}\n",
      "Test accuracy: 0.6428571428571429\n",
      "Test F1: 0.6468926553672316\n",
      "Test AUC: 0.6949215419501134\n",
      "\n",
      "Fold 1:\n",
      "Best params: {'clf__bootstrap': True, 'clf__criterion': 'log_loss', 'clf__max_depth': 40, 'clf__n_estimators': 1000}\n",
      "Test accuracy: 0.6442857142857142\n",
      "Test F1: 0.6536856745479833\n",
      "Test AUC: 0.6955809523809524\n",
      "\n",
      "Fold 2:\n",
      "Best params: {'clf__bootstrap': False, 'clf__criterion': 'entropy', 'clf__max_depth': 60, 'clf__n_estimators': 1200}\n",
      "Test accuracy: 0.6223809523809524\n",
      "Test F1: 0.6309911586784551\n",
      "Test AUC: 0.6863464852607709\n",
      "\n",
      "Fold 3:\n",
      "Best params: {'clf__bootstrap': False, 'clf__criterion': 'log_loss', 'clf__max_depth': 60, 'clf__n_estimators': 800}\n",
      "Test accuracy: 0.6428571428571429\n",
      "Test F1: 0.6546961325966851\n",
      "Test AUC: 0.7023392290249434\n",
      "\n",
      "Fold 4:\n",
      "Best params: {'clf__bootstrap': True, 'clf__criterion': 'entropy', 'clf__max_depth': 40, 'clf__n_estimators': 1200}\n",
      "Test accuracy: 0.64\n",
      "Test F1: 0.6473880597014925\n",
      "Test AUC: 0.6982240362811791\n",
      "\n",
      "Fold 5:\n",
      "Best params: {'clf__bootstrap': False, 'clf__criterion': 'log_loss', 'clf__max_depth': 40, 'clf__n_estimators': 1000}\n",
      "Test accuracy: 0.6652380952380952\n",
      "Test F1: 0.676186089359742\n",
      "Test AUC: 0.7333741496598639\n",
      "\n",
      "Fold 6:\n",
      "Best params: {'clf__bootstrap': True, 'clf__criterion': 'entropy', 'clf__max_depth': 60, 'clf__n_estimators': 1200}\n",
      "Test accuracy: 0.6338095238095238\n",
      "Test F1: 0.6457853523721787\n",
      "Test AUC: 0.6904743764172335\n",
      "\n",
      "Fold 7:\n",
      "Best params: {'clf__bootstrap': True, 'clf__criterion': 'entropy', 'clf__max_depth': 40, 'clf__n_estimators': 1200}\n",
      "Test accuracy: 0.650952380952381\n",
      "Test F1: 0.6566744730679157\n",
      "Test AUC: 0.7081315192743763\n",
      "\n",
      "Fold 8:\n",
      "Best params: {'clf__bootstrap': False, 'clf__criterion': 'log_loss', 'clf__max_depth': None, 'clf__n_estimators': 1200}\n",
      "Test accuracy: 0.6371428571428571\n",
      "Test F1: 0.6452513966480447\n",
      "Test AUC: 0.6928204081632653\n",
      "\n",
      "Fold 9:\n",
      "Best params: {'clf__bootstrap': False, 'clf__criterion': 'entropy', 'clf__max_depth': 20, 'clf__n_estimators': 1000}\n",
      "Test accuracy: 0.6152380952380953\n",
      "Test F1: 0.6210131332082551\n",
      "Test AUC: 0.6726566893424036\n",
      "\n",
      "Mean Accuracy: 0.6394761904761904\n",
      "Mean F1: 0.6478564125547983\n",
      "Mean AUC: 0.6974869387755102\n",
      "\n",
      "RandomForestClassifier_TfidfVectorizer_VP\n",
      "Fold 0:\n",
      "Best params: {'clf__bootstrap': False, 'clf__criterion': 'entropy', 'clf__max_depth': 20, 'clf__n_estimators': 800}\n",
      "Test accuracy: 0.8061904761904762\n",
      "Test F1: 0.7953745600804424\n",
      "Test AUC: 0.867392290249433\n",
      "\n",
      "Fold 1:\n",
      "Best params: {'clf__bootstrap': True, 'clf__criterion': 'entropy', 'clf__max_depth': 20, 'clf__n_estimators': 1000}\n",
      "Test accuracy: 0.8042857142857143\n",
      "Test F1: 0.7893388006150692\n",
      "Test AUC: 0.8549061224489796\n",
      "\n",
      "Fold 2:\n",
      "Best params: {'clf__bootstrap': False, 'clf__criterion': 'log_loss', 'clf__max_depth': 40, 'clf__n_estimators': 1200}\n",
      "Test accuracy: 0.8095238095238095\n",
      "Test F1: 0.7987927565392354\n",
      "Test AUC: 0.8705224489795919\n",
      "\n",
      "Fold 3:\n",
      "Best params: {'clf__bootstrap': False, 'clf__criterion': 'entropy', 'clf__max_depth': 20, 'clf__n_estimators': 1000}\n",
      "Test accuracy: 0.8019047619047619\n",
      "Test F1: 0.7879714576962283\n",
      "Test AUC: 0.8636063492063492\n",
      "\n",
      "Fold 4:\n",
      "Best params: {'clf__bootstrap': True, 'clf__criterion': 'entropy', 'clf__max_depth': 40, 'clf__n_estimators': 1000}\n",
      "Test accuracy: 0.8061904761904762\n",
      "Test F1: 0.7926642893530311\n",
      "Test AUC: 0.8717523809523808\n",
      "\n",
      "Fold 5:\n",
      "Best params: {'clf__bootstrap': True, 'clf__criterion': 'log_loss', 'clf__max_depth': 20, 'clf__n_estimators': 800}\n",
      "Test accuracy: 0.809047619047619\n",
      "Test F1: 0.7940421160760144\n",
      "Test AUC: 0.8786448979591837\n",
      "\n",
      "Fold 6:\n",
      "Best params: {'clf__bootstrap': True, 'clf__criterion': 'log_loss', 'clf__max_depth': 20, 'clf__n_estimators': 800}\n",
      "Test accuracy: 0.8052380952380952\n",
      "Test F1: 0.7903639159405433\n",
      "Test AUC: 0.8739492063492064\n",
      "\n",
      "Fold 7:\n",
      "Best params: {'clf__bootstrap': False, 'clf__criterion': 'log_loss', 'clf__max_depth': 60, 'clf__n_estimators': 800}\n",
      "Test accuracy: 0.8195238095238095\n",
      "Test F1: 0.8069281711665818\n",
      "Test AUC: 0.8892634920634921\n",
      "\n",
      "Fold 8:\n",
      "Best params: {'clf__bootstrap': True, 'clf__criterion': 'entropy', 'clf__max_depth': 40, 'clf__n_estimators': 1200}\n",
      "Test accuracy: 0.7995238095238095\n",
      "Test F1: 0.7855323484462557\n",
      "Test AUC: 0.8578195011337868\n",
      "\n",
      "Fold 9:\n",
      "Best params: {'clf__bootstrap': True, 'clf__criterion': 'log_loss', 'clf__max_depth': 20, 'clf__n_estimators': 1200}\n",
      "Test accuracy: 0.8066666666666666\n",
      "Test F1: 0.7953629032258065\n",
      "Test AUC: 0.8658394557823129\n",
      "\n",
      "Mean Accuracy: 0.8068095238095239\n",
      "Mean F1: 0.7936371319139208\n",
      "Mean AUC: 0.8693696145124716\n",
      "\n",
      "RandomForestClassifier_TfidfVectorizer\n",
      "Fold 0:\n",
      "Best params: {'clf__bootstrap': False, 'clf__criterion': 'entropy', 'clf__max_depth': 60, 'clf__n_estimators': 1200}\n",
      "Test accuracy: 0.6466666666666666\n",
      "Test F1: 0.6529466791393826\n",
      "Test AUC: 0.7034530612244898\n",
      "\n",
      "Fold 1:\n",
      "Best params: {'clf__bootstrap': False, 'clf__criterion': 'entropy', 'clf__max_depth': 60, 'clf__n_estimators': 1200}\n",
      "Test accuracy: 0.6552380952380953\n",
      "Test F1: 0.6663594470046083\n",
      "Test AUC: 0.7126185941043084\n",
      "\n",
      "Fold 2:\n",
      "Best params: {'clf__bootstrap': True, 'clf__criterion': 'entropy', 'clf__max_depth': 40, 'clf__n_estimators': 1000}\n",
      "Test accuracy: 0.6238095238095238\n",
      "Test F1: 0.6382783882783882\n",
      "Test AUC: 0.6913659863945578\n",
      "\n",
      "Fold 3:\n",
      "Best params: {'clf__bootstrap': True, 'clf__criterion': 'log_loss', 'clf__max_depth': 20, 'clf__n_estimators': 1200}\n",
      "Test accuracy: 0.6409523809523809\n",
      "Test F1: 0.6666666666666666\n",
      "Test AUC: 0.7012507936507937\n",
      "\n",
      "Fold 4:\n",
      "Best params: {'clf__bootstrap': True, 'clf__criterion': 'entropy', 'clf__max_depth': None, 'clf__n_estimators': 800}\n",
      "Test accuracy: 0.6490476190476191\n",
      "Test F1: 0.6576869484440316\n",
      "Test AUC: 0.7180852607709751\n",
      "\n",
      "Fold 5:\n",
      "Best params: {'clf__bootstrap': True, 'clf__criterion': 'entropy', 'clf__max_depth': 60, 'clf__n_estimators': 800}\n",
      "Test accuracy: 0.6761904761904762\n",
      "Test F1: 0.6860572483841182\n",
      "Test AUC: 0.7449151927437642\n",
      "\n",
      "Fold 6:\n",
      "Best params: {'clf__bootstrap': True, 'clf__criterion': 'log_loss', 'clf__max_depth': 40, 'clf__n_estimators': 1000}\n",
      "Test accuracy: 0.6428571428571429\n",
      "Test F1: 0.6630727762803235\n",
      "Test AUC: 0.7084145124716553\n",
      "\n",
      "Fold 7:\n",
      "Best params: {'clf__bootstrap': True, 'clf__criterion': 'log_loss', 'clf__max_depth': 40, 'clf__n_estimators': 1200}\n",
      "Test accuracy: 0.6542857142857142\n",
      "Test F1: 0.6672777268560953\n",
      "Test AUC: 0.7164426303854875\n",
      "\n",
      "Fold 8:\n",
      "Best params: {'clf__bootstrap': False, 'clf__criterion': 'entropy', 'clf__max_depth': 60, 'clf__n_estimators': 800}\n",
      "Test accuracy: 0.6466666666666666\n",
      "Test F1: 0.6564814814814814\n",
      "Test AUC: 0.7076580498866213\n",
      "\n",
      "Fold 9:\n",
      "Best params: {'clf__bootstrap': True, 'clf__criterion': 'log_loss', 'clf__max_depth': 40, 'clf__n_estimators': 1200}\n",
      "Test accuracy: 0.6242857142857143\n",
      "Test F1: 0.636237897648686\n",
      "Test AUC: 0.6889895691609977\n",
      "\n",
      "Mean Accuracy: 0.646\n",
      "Mean F1: 0.6591065260183783\n",
      "Mean AUC: 0.709319365079365\n",
      "\n",
      "RandomForestClassifier_CountVectorizer_WE_VP\n",
      "Fold 0:\n",
      "Best params: {'clf__bootstrap': True, 'clf__criterion': 'log_loss', 'clf__max_depth': 60, 'clf__n_estimators': 1200}\n",
      "Test accuracy: 0.8057142857142857\n",
      "Test F1: 0.7984189723320159\n",
      "Test AUC: 0.86081179138322\n",
      "\n",
      "Fold 1:\n",
      "Best params: {'clf__bootstrap': True, 'clf__criterion': 'log_loss', 'clf__max_depth': 20, 'clf__n_estimators': 1200}\n",
      "Test accuracy: 0.7942857142857143\n",
      "Test F1: 0.7865612648221344\n",
      "Test AUC: 0.8549895691609977\n",
      "\n",
      "Fold 2:\n",
      "Best params: {'clf__bootstrap': True, 'clf__criterion': 'entropy', 'clf__max_depth': None, 'clf__n_estimators': 1000}\n",
      "Test accuracy: 0.8157142857142857\n",
      "Test F1: 0.8090774543660583\n",
      "Test AUC: 0.8606947845804989\n",
      "\n",
      "Fold 3:\n",
      "Best params: {'clf__bootstrap': False, 'clf__criterion': 'entropy', 'clf__max_depth': 40, 'clf__n_estimators': 1000}\n",
      "Test accuracy: 0.7919047619047619\n",
      "Test F1: 0.7829110779930452\n",
      "Test AUC: 0.8611464852607709\n",
      "\n",
      "Fold 4:\n",
      "Best params: {'clf__bootstrap': False, 'clf__criterion': 'entropy', 'clf__max_depth': 40, 'clf__n_estimators': 1000}\n",
      "Test accuracy: 0.8061904761904762\n",
      "Test F1: 0.7984150569588906\n",
      "Test AUC: 0.8706430839002268\n",
      "\n",
      "Fold 5:\n",
      "Best params: {'clf__bootstrap': True, 'clf__criterion': 'entropy', 'clf__max_depth': 60, 'clf__n_estimators': 1200}\n",
      "Test accuracy: 0.8142857142857143\n",
      "Test F1: 0.8051948051948052\n",
      "Test AUC: 0.873697052154195\n",
      "\n",
      "Fold 6:\n",
      "Best params: {'clf__bootstrap': True, 'clf__criterion': 'entropy', 'clf__max_depth': 40, 'clf__n_estimators': 1200}\n",
      "Test accuracy: 0.8\n",
      "Test F1: 0.7935103244837758\n",
      "Test AUC: 0.867297052154195\n",
      "\n",
      "Fold 7:\n",
      "Best params: {'clf__bootstrap': False, 'clf__criterion': 'entropy', 'clf__max_depth': 60, 'clf__n_estimators': 1000}\n",
      "Test accuracy: 0.820952380952381\n",
      "Test F1: 0.812375249500998\n",
      "Test AUC: 0.8866412698412698\n",
      "\n",
      "Fold 8:\n",
      "Best params: {'clf__bootstrap': True, 'clf__criterion': 'entropy', 'clf__max_depth': None, 'clf__n_estimators': 800}\n",
      "Test accuracy: 0.7961904761904762\n",
      "Test F1: 0.7876984126984127\n",
      "Test AUC: 0.8543977324263038\n",
      "\n",
      "Fold 9:\n",
      "Best params: {'clf__bootstrap': True, 'clf__criterion': 'log_loss', 'clf__max_depth': None, 'clf__n_estimators': 1000}\n",
      "Test accuracy: 0.7995238095238095\n",
      "Test F1: 0.7937285644292014\n",
      "Test AUC: 0.8607850340136054\n",
      "\n",
      "Mean Accuracy: 0.8044761904761906\n",
      "Mean F1: 0.7967891182779339\n",
      "Mean AUC: 0.8651103854875283\n",
      "\n",
      "RandomForestClassifier_CountVectorizer_WE\n",
      "Fold 0:\n"
     ]
    },
    {
     "name": "stderr",
     "output_type": "stream",
     "text": [
      "C:\\Users\\Utente\\anaconda3\\envs\\DMML_project\\Lib\\site-packages\\joblib\\externals\\loky\\process_executor.py:752: UserWarning: A worker stopped while some jobs were given to the executor. This can be caused by a too short worker timeout or by a memory leak.\n",
      "  warnings.warn(\n"
     ]
    },
    {
     "name": "stdout",
     "output_type": "stream",
     "text": [
      "Best params: {'clf__bootstrap': False, 'clf__criterion': 'log_loss', 'clf__max_depth': None, 'clf__n_estimators': 1200}\n",
      "Test accuracy: 0.6385714285714286\n",
      "Test F1: 0.650713299585826\n",
      "Test AUC: 0.688027664399093\n",
      "\n",
      "Fold 1:\n",
      "Best params: {'clf__bootstrap': True, 'clf__criterion': 'log_loss', 'clf__max_depth': None, 'clf__n_estimators': 800}\n",
      "Test accuracy: 0.6347619047619047\n",
      "Test F1: 0.6540369869192603\n",
      "Test AUC: 0.6935768707482993\n",
      "\n",
      "Fold 2:\n",
      "Best params: {'clf__bootstrap': True, 'clf__criterion': 'log_loss', 'clf__max_depth': 60, 'clf__n_estimators': 800}\n",
      "Test accuracy: 0.6195238095238095\n",
      "Test F1: 0.6339899221255153\n",
      "Test AUC: 0.6713668934240363\n",
      "\n",
      "Fold 3:\n",
      "Best params: {'clf__bootstrap': False, 'clf__criterion': 'entropy', 'clf__max_depth': 60, 'clf__n_estimators': 1200}\n",
      "Test accuracy: 0.6352380952380953\n",
      "Test F1: 0.6524500907441017\n",
      "Test AUC: 0.6852879818594104\n",
      "\n",
      "Fold 4:\n",
      "Best params: {'clf__bootstrap': False, 'clf__criterion': 'log_loss', 'clf__max_depth': 40, 'clf__n_estimators': 1200}\n",
      "Test accuracy: 0.6433333333333333\n",
      "Test F1: 0.6540415704387991\n",
      "Test AUC: 0.6952689342403628\n",
      "\n",
      "Fold 5:\n",
      "Best params: {'clf__bootstrap': False, 'clf__criterion': 'log_loss', 'clf__max_depth': None, 'clf__n_estimators': 1200}\n",
      "Test accuracy: 0.6576190476190477\n",
      "Test F1: 0.6745133544590313\n",
      "Test AUC: 0.7198049886621315\n",
      "\n",
      "Fold 6:\n",
      "Best params: {'clf__bootstrap': False, 'clf__criterion': 'log_loss', 'clf__max_depth': 20, 'clf__n_estimators': 800}\n",
      "Test accuracy: 0.6233333333333333\n",
      "Test F1: 0.6454504706409682\n",
      "Test AUC: 0.6716480725623581\n",
      "\n",
      "Fold 7:\n",
      "Best params: {'clf__bootstrap': False, 'clf__criterion': 'log_loss', 'clf__max_depth': 40, 'clf__n_estimators': 1000}\n",
      "Test accuracy: 0.6533333333333333\n",
      "Test F1: 0.6675799086757991\n",
      "Test AUC: 0.7056888888888888\n",
      "\n",
      "Fold 8:\n"
     ]
    },
    {
     "name": "stderr",
     "output_type": "stream",
     "text": [
      "C:\\Users\\Utente\\anaconda3\\envs\\DMML_project\\Lib\\site-packages\\joblib\\externals\\loky\\process_executor.py:752: UserWarning: A worker stopped while some jobs were given to the executor. This can be caused by a too short worker timeout or by a memory leak.\n",
      "  warnings.warn(\n"
     ]
    },
    {
     "name": "stdout",
     "output_type": "stream",
     "text": [
      "Best params: {'clf__bootstrap': False, 'clf__criterion': 'log_loss', 'clf__max_depth': None, 'clf__n_estimators': 800}\n",
      "Test accuracy: 0.63\n",
      "Test F1: 0.65015758667267\n",
      "Test AUC: 0.6764371882086169\n",
      "\n",
      "Fold 9:\n",
      "Best params: {'clf__bootstrap': True, 'clf__criterion': 'entropy', 'clf__max_depth': 60, 'clf__n_estimators': 800}\n",
      "Test accuracy: 0.6157142857142858\n",
      "Test F1: 0.630325240494732\n",
      "Test AUC: 0.6646648526077098\n",
      "\n",
      "Mean Accuracy: 0.6351428571428571\n",
      "Mean F1: 0.6513258430756702\n",
      "Mean AUC: 0.6871772335600907\n",
      "\n",
      "RandomForestClassifier_CountVectorizer_VP\n",
      "Fold 0:\n",
      "Best params: {'clf__bootstrap': False, 'clf__criterion': 'log_loss', 'clf__max_depth': 60, 'clf__n_estimators': 1000}\n",
      "Test accuracy: 0.8042857142857143\n",
      "Test F1: 0.7925290257445734\n",
      "Test AUC: 0.8699990929705216\n",
      "\n",
      "Fold 1:\n",
      "Best params: {'clf__bootstrap': True, 'clf__criterion': 'log_loss', 'clf__max_depth': None, 'clf__n_estimators': 1000}\n",
      "Test accuracy: 0.7980952380952381\n",
      "Test F1: 0.7838939857288482\n",
      "Test AUC: 0.8599283446712017\n",
      "\n",
      "Fold 2:\n",
      "Best params: {'clf__bootstrap': False, 'clf__criterion': 'log_loss', 'clf__max_depth': None, 'clf__n_estimators': 1200}\n",
      "Test accuracy: 0.8119047619047619\n",
      "Test F1: 0.8018063221274461\n",
      "Test AUC: 0.8778834467120182\n",
      "\n",
      "Fold 3:\n",
      "Best params: {'clf__bootstrap': False, 'clf__criterion': 'log_loss', 'clf__max_depth': 60, 'clf__n_estimators': 1000}\n",
      "Test accuracy: 0.7985714285714286\n",
      "Test F1: 0.7831881086622245\n",
      "Test AUC: 0.8730993197278911\n",
      "\n",
      "Fold 4:\n",
      "Best params: {'clf__bootstrap': True, 'clf__criterion': 'log_loss', 'clf__max_depth': None, 'clf__n_estimators': 1000}\n",
      "Test accuracy: 0.8057142857142857\n",
      "Test F1: 0.7922606924643585\n",
      "Test AUC: 0.8682902494331066\n",
      "\n",
      "Fold 5:\n",
      "Best params: {'clf__bootstrap': False, 'clf__criterion': 'entropy', 'clf__max_depth': None, 'clf__n_estimators': 800}\n",
      "Test accuracy: 0.8104761904761905\n",
      "Test F1: 0.7977642276422764\n",
      "Test AUC: 0.8790535147392291\n",
      "\n",
      "Fold 6:\n",
      "Best params: {'clf__bootstrap': True, 'clf__criterion': 'log_loss', 'clf__max_depth': 60, 'clf__n_estimators': 1000}\n",
      "Test accuracy: 0.8014285714285714\n",
      "Test F1: 0.785824345146379\n",
      "Test AUC: 0.878615873015873\n",
      "\n",
      "Fold 7:\n",
      "Best params: {'clf__bootstrap': False, 'clf__criterion': 'entropy', 'clf__max_depth': 20, 'clf__n_estimators': 800}\n",
      "Test accuracy: 0.810952380952381\n",
      "Test F1: 0.7946197620279358\n",
      "Test AUC: 0.8772861678004535\n",
      "\n",
      "Fold 8:\n",
      "Best params: {'clf__bootstrap': False, 'clf__criterion': 'log_loss', 'clf__max_depth': None, 'clf__n_estimators': 1200}\n",
      "Test accuracy: 0.8023809523809524\n",
      "Test F1: 0.7890188103711235\n",
      "Test AUC: 0.8631115646258504\n",
      "\n",
      "Fold 9:\n"
     ]
    },
    {
     "name": "stderr",
     "output_type": "stream",
     "text": [
      "C:\\Users\\Utente\\anaconda3\\envs\\DMML_project\\Lib\\site-packages\\joblib\\externals\\loky\\process_executor.py:752: UserWarning: A worker stopped while some jobs were given to the executor. This can be caused by a too short worker timeout or by a memory leak.\n",
      "  warnings.warn(\n"
     ]
    },
    {
     "name": "stdout",
     "output_type": "stream",
     "text": [
      "Best params: {'clf__bootstrap': False, 'clf__criterion': 'entropy', 'clf__max_depth': None, 'clf__n_estimators': 800}\n",
      "Test accuracy: 0.8095238095238095\n",
      "Test F1: 0.8005982053838484\n",
      "Test AUC: 0.8630893424036281\n",
      "\n",
      "Mean Accuracy: 0.8053333333333335\n",
      "Mean F1: 0.7921503485299014\n",
      "Mean AUC: 0.8710356916099773\n",
      "\n",
      "RandomForestClassifier_CountVectorizer\n",
      "Fold 0:\n",
      "Best params: {'clf__bootstrap': True, 'clf__criterion': 'log_loss', 'clf__max_depth': 40, 'clf__n_estimators': 800}\n",
      "Test accuracy: 0.6247619047619047\n",
      "Test F1: 0.6552930883639545\n",
      "Test AUC: 0.6805124716553288\n",
      "\n",
      "Fold 1:\n",
      "Best params: {'clf__bootstrap': True, 'clf__criterion': 'log_loss', 'clf__max_depth': 60, 'clf__n_estimators': 800}\n",
      "Test accuracy: 0.6466666666666666\n",
      "Test F1: 0.6734154929577465\n",
      "Test AUC: 0.7107437641723356\n",
      "\n",
      "Fold 2:\n",
      "Best params: {'clf__bootstrap': True, 'clf__criterion': 'entropy', 'clf__max_depth': 40, 'clf__n_estimators': 1200}\n",
      "Test accuracy: 0.6142857142857143\n",
      "Test F1: 0.6481320590790617\n",
      "Test AUC: 0.682477097505669\n",
      "\n",
      "Fold 3:\n",
      "Best params: {'clf__bootstrap': True, 'clf__criterion': 'entropy', 'clf__max_depth': None, 'clf__n_estimators': 800}\n",
      "Test accuracy: 0.6461904761904762\n",
      "Test F1: 0.643302928468555\n",
      "Test AUC: 0.7158693877551021\n",
      "\n",
      "Fold 4:\n",
      "Best params: {'clf__bootstrap': True, 'clf__criterion': 'log_loss', 'clf__max_depth': 60, 'clf__n_estimators': 1200}\n",
      "Test accuracy: 0.6585714285714286\n",
      "Test F1: 0.6806236080178174\n",
      "Test AUC: 0.7189714285714285\n",
      "\n",
      "Fold 5:\n",
      "Best params: {'clf__bootstrap': True, 'clf__criterion': 'entropy', 'clf__max_depth': 60, 'clf__n_estimators': 1200}\n",
      "Test accuracy: 0.6557142857142857\n",
      "Test F1: 0.6844172850283718\n",
      "Test AUC: 0.7360643990929705\n",
      "\n",
      "Fold 6:\n",
      "Best params: {'clf__bootstrap': True, 'clf__criterion': 'log_loss', 'clf__max_depth': 60, 'clf__n_estimators': 800}\n",
      "Test accuracy: 0.6323809523809524\n",
      "Test F1: 0.6655112651646448\n",
      "Test AUC: 0.6948861678004534\n",
      "\n",
      "Fold 7:\n",
      "Best params: {'clf__bootstrap': True, 'clf__criterion': 'entropy', 'clf__max_depth': 40, 'clf__n_estimators': 1200}\n",
      "Test accuracy: 0.6419047619047619\n",
      "Test F1: 0.6690140845070423\n",
      "Test AUC: 0.7013197278911565\n",
      "\n",
      "Fold 8:\n",
      "Best params: {'clf__bootstrap': False, 'clf__criterion': 'log_loss', 'clf__max_depth': None, 'clf__n_estimators': 800}\n",
      "Test accuracy: 0.6457142857142857\n",
      "Test F1: 0.6460513796384396\n",
      "Test AUC: 0.6952993197278912\n",
      "\n",
      "Fold 9:\n",
      "Best params: {'clf__bootstrap': True, 'clf__criterion': 'entropy', 'clf__max_depth': 60, 'clf__n_estimators': 1000}\n",
      "Test accuracy: 0.6147619047619047\n",
      "Test F1: 0.6386779812416258\n",
      "Test AUC: 0.6809351473922902\n",
      "\n",
      "Mean Accuracy: 0.6380952380952382\n",
      "Mean F1: 0.6604439172467259\n",
      "Mean AUC: 0.7017078911564626\n",
      "\n"
     ]
    },
    {
     "data": {
      "text/plain": [
       "['models/best_model.pkl']"
      ]
     },
     "execution_count": 3,
     "metadata": {},
     "output_type": "execute_result"
    }
   ],
   "execution_count": 3
  },
  {
   "metadata": {},
   "cell_type": "markdown",
   "source": "## Statistical comparison",
   "id": "2ab1edab86f4488"
  },
  {
   "metadata": {},
   "cell_type": "markdown",
   "source": "Test normality",
   "id": "4a996aafb5b58482"
  },
  {
   "metadata": {},
   "cell_type": "code",
   "outputs": [],
   "execution_count": null,
   "source": [
    "from sklearn.model_selection import RepeatedStratifiedKFold\n",
    "from sklearn.svm import LinearSVC\n",
    "from sklearn.ensemble import RandomForestClassifier\n",
    "import seaborn as sns\n",
    "import matplotlib.pyplot as plt\n",
    "\n",
    "model1 = Pipeline([\n",
    "    ('preprocessor', ColumnTransformer([\n",
    "        ('vectorizer', TfidfVectorizer(tokenizer=LemmaTokenizer(), token_pattern=None), 'REVIEW_TEXT'),\n",
    "        ('vp', 'passthrough', ['VERIFIED_PURCHASE']),\n",
    "        ('embeddings', SentenceEmbeddingTransformer(), 'Sentence_Embeddings'),\n",
    "    ], n_jobs=-1)),\n",
    "    ('clf', RandomForestClassifier(random_state=42, n_jobs=-1)),\n",
    "])\n",
    "model2 = Pipeline([\n",
    "    ('preprocessor', ColumnTransformer([\n",
    "        ('vectorizer', TfidfVectorizer(tokenizer=LemmaTokenizer(), token_pattern=None), 'REVIEW_TEXT'),\n",
    "        ('vp', 'passthrough', ['VERIFIED_PURCHASE']),\n",
    "        ('embeddings', SentenceEmbeddingTransformer(), 'Sentence_Embeddings'),\n",
    "    ], n_jobs=-1)),\n",
    "    ('clf', LinearSVC(random_state=42, dual=\"auto\")),\n",
    "])\n",
    "\n",
    "rkf = RepeatedStratifiedKFold(n_splits=10, n_repeats=3, random_state=42)\n",
    "\n",
    "# Store the differences between model performances\n",
    "differences = []\n",
    "\n",
    "for train_index, test_index in rkf.split(df, df['LABEL']):\n",
    "    # Split the data\n",
    "    X_train, X_test = df.iloc[train_index], df.iloc[test_index]\n",
    "    y_train, y_test = df['LABEL'].iloc[train_index], df['LABEL'].iloc[test_index]\n",
    "\n",
    "    model1.fit(X_train, y_train)\n",
    "    model2.fit(X_train, y_train)\n",
    "    \n",
    "    y_pred1 = model1.predict(X_test)\n",
    "    y_pred2 = model2.predict(X_test)\n",
    "    \n",
    "    acc1 = accuracy_score(y_test, y_pred1)\n",
    "    acc2 = accuracy_score(y_test, y_pred2)\n",
    "    \n",
    "    differences.append(acc1 - acc2)\n",
    "\n",
    "differences = np.array(differences)\n",
    "\n",
    "# Histogram\n",
    "sns.histplot(differences, kde=True)\n",
    "plt.show()\n",
    "\n",
    "# Q-Q plot\n",
    "from scipy import stats\n",
    "stats.probplot(differences, dist=\"norm\", plot=plt)\n",
    "plt.show()"
   ],
   "id": "e2b92b527993f399"
  },
  {
   "metadata": {},
   "cell_type": "markdown",
   "source": "Perform Wilcoxon signed-rank test",
   "id": "1303ec3bbb44b95b"
  },
  {
   "metadata": {},
   "cell_type": "code",
   "outputs": [],
   "execution_count": null,
   "source": [
    "from scipy.stats import wilcoxon\n",
    "\n",
    "w_p_value = wilcoxon(differences)\n",
    "print('Wilcoxon signed-rank test p-value:', w_p_value)"
   ],
   "id": "4e86454c934b225e"
  }
 ],
 "metadata": {
  "kernelspec": {
   "display_name": "Python 3",
   "language": "python",
   "name": "python3"
  },
  "language_info": {
   "codemirror_mode": {
    "name": "ipython",
    "version": 2
   },
   "file_extension": ".py",
   "mimetype": "text/x-python",
   "name": "python",
   "nbconvert_exporter": "python",
   "pygments_lexer": "ipython2",
   "version": "2.7.6"
  }
 },
 "nbformat": 4,
 "nbformat_minor": 5
}
