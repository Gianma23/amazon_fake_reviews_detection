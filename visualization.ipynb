{
 "cells": [
  {
   "cell_type": "markdown",
   "source": [
    "# preprocessing"
   ],
   "metadata": {
    "collapsed": false
   },
   "id": "7bf387677746f06b"
  },
  {
   "cell_type": "code",
   "source": [
    "import numpy as np\n",
    "import pandas as pd\n",
    "from xlwings.utils import chunk\n",
    "\n",
    "df = pd.read_csv('data/amazon_reviews.txt', sep='\\t')\n",
    "df.head(3)"
   ],
   "metadata": {
    "collapsed": false,
    "ExecuteTime": {
     "end_time": "2024-09-09T06:35:41.437489Z",
     "start_time": "2024-09-09T06:35:40.099723Z"
    }
   },
   "id": "48ab132f0f3a8017",
   "outputs": [
    {
     "data": {
      "text/plain": [
       "   DOC_ID       LABEL  RATING VERIFIED_PURCHASE PRODUCT_CATEGORY  PRODUCT_ID  \\\n",
       "0       1  __label1__       4                 N               PC  B00008NG7N   \n",
       "1       2  __label1__       4                 Y         Wireless  B00LH0Y3NM   \n",
       "2       3  __label1__       3                 N             Baby  B000I5UZ1Q   \n",
       "\n",
       "                                       PRODUCT_TITLE  \\\n",
       "0        Targus PAUK10U Ultra Mini USB Keypad, Black   \n",
       "1  Note 3 Battery : Stalion Strength Replacement ...   \n",
       "2       Fisher-Price Papasan Cradle Swing, Starlight   \n",
       "\n",
       "               REVIEW_TITLE                                        REVIEW_TEXT  \n",
       "0                    useful  When least you think so, this product will sav...  \n",
       "1     New era for batteries  Lithium batteries are something new introduced...  \n",
       "2  doesn't swing very well.  I purchased this swing for my baby. She is 6 m...  "
      ],
      "text/html": [
       "<div>\n",
       "<style scoped>\n",
       "    .dataframe tbody tr th:only-of-type {\n",
       "        vertical-align: middle;\n",
       "    }\n",
       "\n",
       "    .dataframe tbody tr th {\n",
       "        vertical-align: top;\n",
       "    }\n",
       "\n",
       "    .dataframe thead th {\n",
       "        text-align: right;\n",
       "    }\n",
       "</style>\n",
       "<table border=\"1\" class=\"dataframe\">\n",
       "  <thead>\n",
       "    <tr style=\"text-align: right;\">\n",
       "      <th></th>\n",
       "      <th>DOC_ID</th>\n",
       "      <th>LABEL</th>\n",
       "      <th>RATING</th>\n",
       "      <th>VERIFIED_PURCHASE</th>\n",
       "      <th>PRODUCT_CATEGORY</th>\n",
       "      <th>PRODUCT_ID</th>\n",
       "      <th>PRODUCT_TITLE</th>\n",
       "      <th>REVIEW_TITLE</th>\n",
       "      <th>REVIEW_TEXT</th>\n",
       "    </tr>\n",
       "  </thead>\n",
       "  <tbody>\n",
       "    <tr>\n",
       "      <th>0</th>\n",
       "      <td>1</td>\n",
       "      <td>__label1__</td>\n",
       "      <td>4</td>\n",
       "      <td>N</td>\n",
       "      <td>PC</td>\n",
       "      <td>B00008NG7N</td>\n",
       "      <td>Targus PAUK10U Ultra Mini USB Keypad, Black</td>\n",
       "      <td>useful</td>\n",
       "      <td>When least you think so, this product will sav...</td>\n",
       "    </tr>\n",
       "    <tr>\n",
       "      <th>1</th>\n",
       "      <td>2</td>\n",
       "      <td>__label1__</td>\n",
       "      <td>4</td>\n",
       "      <td>Y</td>\n",
       "      <td>Wireless</td>\n",
       "      <td>B00LH0Y3NM</td>\n",
       "      <td>Note 3 Battery : Stalion Strength Replacement ...</td>\n",
       "      <td>New era for batteries</td>\n",
       "      <td>Lithium batteries are something new introduced...</td>\n",
       "    </tr>\n",
       "    <tr>\n",
       "      <th>2</th>\n",
       "      <td>3</td>\n",
       "      <td>__label1__</td>\n",
       "      <td>3</td>\n",
       "      <td>N</td>\n",
       "      <td>Baby</td>\n",
       "      <td>B000I5UZ1Q</td>\n",
       "      <td>Fisher-Price Papasan Cradle Swing, Starlight</td>\n",
       "      <td>doesn't swing very well.</td>\n",
       "      <td>I purchased this swing for my baby. She is 6 m...</td>\n",
       "    </tr>\n",
       "  </tbody>\n",
       "</table>\n",
       "</div>"
      ]
     },
     "execution_count": 1,
     "metadata": {},
     "output_type": "execute_result"
    }
   ],
   "execution_count": 1
  },
  {
   "cell_type": "markdown",
   "source": [
    "As we can see the dataset is completely balanced. label 1 if for fake reviews, label 2 for real reviews. As we can see there are no null values."
   ],
   "metadata": {
    "collapsed": false
   },
   "id": "aa60818e96cb906b"
  },
  {
   "cell_type": "code",
   "source": [
    "df['LABEL'].value_counts()"
   ],
   "metadata": {
    "collapsed": false,
    "ExecuteTime": {
     "end_time": "2024-09-09T06:35:41.474822Z",
     "start_time": "2024-09-09T06:35:41.467710Z"
    }
   },
   "id": "cbf9689520b4938f",
   "outputs": [
    {
     "data": {
      "text/plain": [
       "LABEL\n",
       "__label1__    10500\n",
       "__label2__    10500\n",
       "Name: count, dtype: int64"
      ]
     },
     "execution_count": 2,
     "metadata": {},
     "output_type": "execute_result"
    }
   ],
   "execution_count": 2
  },
  {
   "cell_type": "code",
   "source": [
    "df['PRODUCT_CATEGORY'].value_counts()"
   ],
   "metadata": {
    "collapsed": false,
    "ExecuteTime": {
     "end_time": "2024-09-09T06:35:41.521426Z",
     "start_time": "2024-09-09T06:35:41.517662Z"
    }
   },
   "id": "7e5148dd4247c55c",
   "outputs": [
    {
     "data": {
      "text/plain": [
       "PRODUCT_CATEGORY\n",
       "PC                        700\n",
       "Wireless                  700\n",
       "Watches                   700\n",
       "Musical Instruments       700\n",
       "Home Entertainment        700\n",
       "Pet Products              700\n",
       "Lawn and Garden           700\n",
       "Apparel                   700\n",
       "Video Games               700\n",
       "Luggage                   700\n",
       "Outdoors                  700\n",
       "Shoes                     700\n",
       "Home Improvement          700\n",
       "Tools                     700\n",
       "Video DVD                 700\n",
       "Grocery                   700\n",
       "Books                     700\n",
       "Jewelry                   700\n",
       "Home                      700\n",
       "Sports                    700\n",
       "Camera                    700\n",
       "Electronics               700\n",
       "Furniture                 700\n",
       "Kitchen                   700\n",
       "Toys                      700\n",
       "Health & Personal Care    700\n",
       "Beauty                    700\n",
       "Office Products           700\n",
       "Baby                      700\n",
       "Automotive                700\n",
       "Name: count, dtype: int64"
      ]
     },
     "execution_count": 3,
     "metadata": {},
     "output_type": "execute_result"
    }
   ],
   "execution_count": 3
  },
  {
   "cell_type": "code",
   "source": [
    "df.isnull().sum()"
   ],
   "metadata": {
    "collapsed": false,
    "ExecuteTime": {
     "end_time": "2024-09-09T06:35:41.652763Z",
     "start_time": "2024-09-09T06:35:41.645220Z"
    }
   },
   "id": "6c9edf68b71596b",
   "outputs": [
    {
     "data": {
      "text/plain": [
       "DOC_ID               0\n",
       "LABEL                0\n",
       "RATING               0\n",
       "VERIFIED_PURCHASE    0\n",
       "PRODUCT_CATEGORY     0\n",
       "PRODUCT_ID           0\n",
       "PRODUCT_TITLE        0\n",
       "REVIEW_TITLE         0\n",
       "REVIEW_TEXT          0\n",
       "dtype: int64"
      ]
     },
     "execution_count": 4,
     "metadata": {},
     "output_type": "execute_result"
    }
   ],
   "execution_count": 4
  },
  {
   "cell_type": "code",
   "source": [
    "import matplotlib.pyplot as plt\n",
    "\n",
    "word_counts = df['REVIEW_TEXT'].apply(lambda x: len(x.split()))\n",
    "plt.hist(word_counts, bins=range(0, 200, 5))\n",
    "plt.xlabel('Number of Words')\n",
    "plt.ylabel('Frequency')\n",
    "plt.title('Histogram of Number of Words in Reviews')\n",
    "plt.show()"
   ],
   "metadata": {
    "collapsed": false,
    "ExecuteTime": {
     "end_time": "2024-09-09T06:35:41.870748Z",
     "start_time": "2024-09-09T06:35:41.696406Z"
    }
   },
   "id": "66fe353b1b7986b",
   "outputs": [
    {
     "data": {
      "text/plain": [
       "<Figure size 640x480 with 1 Axes>"
      ],
      "image/png": "[encoded data removed]"
     },
     "metadata": {},
     "output_type": "display_data"
    }
   ],
   "execution_count": 5
  },
  {
   "metadata": {
    "collapsed": false
   },
   "cell_type": "markdown",
   "source": [
    "# NLP preprocessing:"
   ],
   "id": "48e880a100ff84ac"
  },
  {
   "metadata": {
    "collapsed": false,
    "ExecuteTime": {
     "end_time": "2024-09-09T06:35:43.150354Z",
     "start_time": "2024-09-09T06:35:41.893947Z"
    }
   },
   "cell_type": "code",
   "source": [
    "from nltk import pos_tag, PorterStemmer, NaiveBayesClassifier\n",
    "import nltk\n",
    "from nltk.stem import WordNetLemmatizer\n",
    "from nltk.tokenize import RegexpTokenizer\n",
    "from nltk.corpus import stopwords\n",
    "import re\n",
    "from sklearn.feature_extraction.text import CountVectorizer, TfidfVectorizer\n",
    "nltk.download('stopwords')\n",
    "nltk.download('wordnet')\n",
    "nltk.download('punkt')\n",
    "nltk.download('averaged_perceptron_tagger')\n",
    "\n",
    "from nltk.corpus import wordnet\n",
    "\n",
    "# def get_wordnet_pos(treebank_tag):\n",
    "# \n",
    "#     if treebank_tag.startswith('J'):\n",
    "#         return wordnet.ADJ\n",
    "#     elif treebank_tag.startswith('V'):\n",
    "#         return wordnet.VERB\n",
    "#     elif treebank_tag.startswith('N'):\n",
    "#         return wordnet.NOUN\n",
    "#     elif treebank_tag.startswith('R'):\n",
    "#         return wordnet.ADV\n",
    "#     else:\n",
    "#         return wordnet.NOUN\n",
    "\n",
    "# tokenize words\n",
    "# remove stop words\n",
    "# stemming\n",
    "stop_words = set(stopwords.words('english'))\n",
    "class LemmaTokenizer(object):\n",
    "    def __init__(self):\n",
    "        self.wnl = PorterStemmer()\n",
    "        self.tokenizer = RegexpTokenizer(r'\\b(?:(?!www\\.|http|\\.com)[a-z]{2,})\\b')\n",
    "    def __call__(self, articles):\n",
    "        articles = articles.lower()\n",
    "        tokens = [self.wnl.stem(x) for x in self.tokenizer.tokenize(articles) if x not in stop_words]\n",
    "        return tokens\n",
    "\n",
    "tfidf_vectorizer = TfidfVectorizer(tokenizer=LemmaTokenizer(), token_pattern=None)\n",
    "bow_vectorizer = CountVectorizer(tokenizer=LemmaTokenizer(), token_pattern=None)"
   ],
   "id": "5d7d38a63d9a681f",
   "outputs": [
    {
     "name": "stderr",
     "output_type": "stream",
     "text": [
      "[nltk_data] Downloading package stopwords to\n",
      "[nltk_data]     C:\\Users\\Utente\\AppData\\Roaming\\nltk_data...\n",
      "[nltk_data]   Package stopwords is already up-to-date!\n",
      "[nltk_data] Downloading package wordnet to\n",
      "[nltk_data]     C:\\Users\\Utente\\AppData\\Roaming\\nltk_data...\n",
      "[nltk_data]   Package wordnet is already up-to-date!\n",
      "[nltk_data] Downloading package punkt to\n",
      "[nltk_data]     C:\\Users\\Utente\\AppData\\Roaming\\nltk_data...\n",
      "[nltk_data]   Package punkt is already up-to-date!\n",
      "[nltk_data] Downloading package averaged_perceptron_tagger to\n",
      "[nltk_data]     C:\\Users\\Utente\\AppData\\Roaming\\nltk_data...\n",
      "[nltk_data]   Package averaged_perceptron_tagger is already up-to-\n",
      "[nltk_data]       date!\n"
     ]
    }
   ],
   "execution_count": 6
  },
  {
   "metadata": {},
   "cell_type": "markdown",
   "source": [
    "Create Word2Vec model"
   ],
   "id": "44786937ac7800cb"
  },
  {
   "metadata": {
    "ExecuteTime": {
     "end_time": "2024-09-09T06:41:46.851368Z",
     "start_time": "2024-09-09T06:41:46.822490Z"
    }
   },
   "cell_type": "code",
   "source": [
    "from nltk import sent_tokenize\n",
    "import time\n",
    "import json\n",
    "import glob\n",
    "import os\n",
    "# Skip-gram model (sg = 1)\n",
    "size = 1000\n",
    "window = 3\n",
    "min_count = 1\n",
    "workers = 20\n",
    "sg = 1\n",
    "\n",
    "# Read each JSONL file and append to the list\n",
    "def create_sentences():\n",
    "    for file in glob.glob('data/word2vec/*.jsonl'):\n",
    "\n",
    "        print(\"Processing file: \" + file)\n",
    "        if file != 'data/word2vec\\Home_and_Kitchen.jsonl':\n",
    "            continue\n",
    "        sentences = set()\n",
    "        with open(file, 'r', encoding='utf-8') as f:\n",
    "            for line in f:\n",
    "                try:\n",
    "                    data = json.loads(line)\n",
    "                    if 'timestamp' in data and 'text' in data:\n",
    "                        timestamp = pd.to_datetime(data['timestamp'], unit='ms')\n",
    "                        if timestamp < pd.Timestamp('2019-01-01'):\n",
    "                            sentences.add(sent_tokenize(data['text']))\n",
    "                except json.JSONDecodeError:\n",
    "                    print(f\"Skipping bad line in file {file}\")\n",
    "    \n",
    "        with open('data/word2vec_processed/sentences.txt', 'a', encoding='utf-8') as f:\n",
    "            for sentence in sentences:\n",
    "                if len(sentence) > 2:\n",
    "                    f.write(sentence + '\\n')\n",
    "\n",
    "# if not os.path.exists('data/word2vec_processed/sentences.csv'):\n",
    "#     create_sentences()\n",
    "create_sentences()"
   ],
   "id": "79be64816819740c",
   "outputs": [
    {
     "name": "stdout",
     "output_type": "stream",
     "text": [
      "Processing file: data/word2vec\\All_Beauty.jsonl\n",
      "Processing file: data/word2vec\\Amazon_Fashion.jsonl\n",
      "Processing file: data/word2vec\\Appliances.jsonl\n",
      "Processing file: data/word2vec\\Arts_Crafts_and_Sewing.jsonl\n",
      "Processing file: data/word2vec\\Automotive.jsonl\n",
      "Processing file: data/word2vec\\Baby_Products.jsonl\n",
      "Processing file: data/word2vec\\Beauty_and_Personal_Care.jsonl\n",
      "Processing file: data/word2vec\\Books.jsonl\n",
      "Processing file: data/word2vec\\CDs_and_Vinyl.jsonl\n",
      "Processing file: data/word2vec\\Cell_Phones_and_Accessories.jsonl\n",
      "Processing file: data/word2vec\\Clothing_Shoes_and_Jewelry.jsonl\n",
      "Processing file: data/word2vec\\Digital_Music.jsonl\n",
      "Processing file: data/word2vec\\Electronics.jsonl\n",
      "Processing file: data/word2vec\\Gift_Cards.jsonl\n",
      "Processing file: data/word2vec\\Grocery_and_Gourmet_Food.jsonl\n",
      "Processing file: data/word2vec\\Handmade_Products.jsonl\n",
      "Processing file: data/word2vec\\Health_and_Household.jsonl\n",
      "Processing file: data/word2vec\\Health_and_Personal_Care.jsonl\n",
      "Processing file: data/word2vec\\Home_and_Kitchen.jsonl\n"
     ]
    },
    {
     "ename": "TypeError",
     "evalue": "unhashable type: 'list'",
     "output_type": "error",
     "traceback": [
      "\u001B[1;31m---------------------------------------------------------------------------\u001B[0m",
      "\u001B[1;31mTypeError\u001B[0m                                 Traceback (most recent call last)",
      "Cell \u001B[1;32mIn[15], line 39\u001B[0m\n\u001B[0;32m     35\u001B[0m                     f\u001B[38;5;241m.\u001B[39mwrite(sentence \u001B[38;5;241m+\u001B[39m \u001B[38;5;124m'\u001B[39m\u001B[38;5;130;01m\\n\u001B[39;00m\u001B[38;5;124m'\u001B[39m)\n\u001B[0;32m     37\u001B[0m \u001B[38;5;66;03m# if not os.path.exists('data/word2vec_processed/sentences.csv'):\u001B[39;00m\n\u001B[0;32m     38\u001B[0m \u001B[38;5;66;03m#     create_sentences()\u001B[39;00m\n\u001B[1;32m---> 39\u001B[0m create_sentences()\n",
      "Cell \u001B[1;32mIn[15], line 28\u001B[0m, in \u001B[0;36mcreate_sentences\u001B[1;34m()\u001B[0m\n\u001B[0;32m     26\u001B[0m         timestamp \u001B[38;5;241m=\u001B[39m pd\u001B[38;5;241m.\u001B[39mto_datetime(data[\u001B[38;5;124m'\u001B[39m\u001B[38;5;124mtimestamp\u001B[39m\u001B[38;5;124m'\u001B[39m], unit\u001B[38;5;241m=\u001B[39m\u001B[38;5;124m'\u001B[39m\u001B[38;5;124mms\u001B[39m\u001B[38;5;124m'\u001B[39m)\n\u001B[0;32m     27\u001B[0m         \u001B[38;5;28;01mif\u001B[39;00m timestamp \u001B[38;5;241m<\u001B[39m pd\u001B[38;5;241m.\u001B[39mTimestamp(\u001B[38;5;124m'\u001B[39m\u001B[38;5;124m2019-01-01\u001B[39m\u001B[38;5;124m'\u001B[39m):\n\u001B[1;32m---> 28\u001B[0m             sentences\u001B[38;5;241m.\u001B[39madd(sent_tokenize(data[\u001B[38;5;124m'\u001B[39m\u001B[38;5;124mtext\u001B[39m\u001B[38;5;124m'\u001B[39m]))\n\u001B[0;32m     29\u001B[0m \u001B[38;5;28;01mexcept\u001B[39;00m json\u001B[38;5;241m.\u001B[39mJSONDecodeError:\n\u001B[0;32m     30\u001B[0m     \u001B[38;5;28mprint\u001B[39m(\u001B[38;5;124mf\u001B[39m\u001B[38;5;124m\"\u001B[39m\u001B[38;5;124mSkipping bad line in file \u001B[39m\u001B[38;5;132;01m{\u001B[39;00mfile\u001B[38;5;132;01m}\u001B[39;00m\u001B[38;5;124m\"\u001B[39m)\n",
      "\u001B[1;31mTypeError\u001B[0m: unhashable type: 'list'"
     ]
    }
   ],
   "execution_count": 15
  },
  {
   "metadata": {},
   "cell_type": "code",
   "outputs": [],
   "execution_count": null,
   "source": [
    "from gensim.models import Word2Vec\n",
    "# ========= Train the Word2Vec model =========\n",
    "word2vec_model_file =  'models/word2vec_' + str(size) + '.model'\n",
    "print(\"Training Word2Vec Model\")\n",
    "start_time = time.time()\n",
    "\n",
    "# Stream the reviews one by one\n",
    "class MyCorpus:\n",
    "    def __iter__(self):\n",
    "        with open('data/word2vec_processed/sentences.csv', 'r') as f:\n",
    "            for line in f:\n",
    "                print(line)\n",
    "                yield LemmaTokenizer()(line)\n",
    "            \n",
    "# Train the Word2Vec Model\n",
    "sentences = MyCorpus()\n",
    "w2v_model = Word2Vec(sentences, min_count = min_count, vector_size = size, workers = workers, window = window, sg = sg)\n",
    "print(\"Time taken to train word2vec model: \" + str(time.time() - start_time))\n",
    "w2v_model.save(word2vec_model_file)"
   ],
   "id": "1e0e308c601639b5"
  },
  {
   "metadata": {},
   "cell_type": "markdown",
   "source": [
    "# model evaluation"
   ],
   "id": "b6e871bf2ae56fbc"
  },
  {
   "metadata": {
    "collapsed": false,
    "is_executing": true,
    "ExecuteTime": {
     "end_time": "2024-09-08T22:13:40.146880Z",
     "start_time": "2024-09-08T08:55:39.681691Z"
    }
   },
   "cell_type": "code",
   "source": [
    "from sklearn.naive_bayes import GaussianNB\n",
    "from sklearn.decomposition import PCA\n",
    "from sklearn.compose import ColumnTransformer\n",
    "from sklearn.preprocessing import OneHotEncoder\n",
    "import pandas as pd\n",
    "from scipy.sparse import hstack\n",
    "from sklearn.pipeline import Pipeline\n",
    "from sklearn.experimental import enable_halving_search_cv\n",
    "from sklearn.model_selection import cross_val_score, KFold, GridSearchCV, HalvingGridSearchCV, StratifiedKFold\n",
    "from sklearn.ensemble import RandomForestClassifier\n",
    "from sklearn.neighbors import KNeighborsClassifier\n",
    "\n",
    "classifiers = [\n",
    "    RandomForestClassifier(random_state=42, n_jobs=-1),\n",
    "    #GaussianNB(),\n",
    "    KNeighborsClassifier(n_jobs=-1),\n",
    "]\n",
    "vectorizers = [\n",
    "    tfidf_vectorizer,\n",
    "    bow_vectorizer,\n",
    "]\n",
    "\n",
    "pipes = []\n",
    "pipes_names = []\n",
    "for clf in classifiers:\n",
    "    for vectorizer in vectorizers:\n",
    "        for useVP in [True, False]:\n",
    "            transformers = [\n",
    "                ('vectorizer', vectorizer, 'REVIEW_TEXT'),\n",
    "            ]\n",
    "            if useVP:\n",
    "                transformers.append(('encoder', OneHotEncoder(), ['VERIFIED_PURCHASE']))\n",
    "            pipes.append(Pipeline([\n",
    "                ('preprocessor', ColumnTransformer(transformers, n_jobs=-1)),\n",
    "                ('clf', clf)\n",
    "            ]))\n",
    "            pipes_names.append(f'{clf.__class__.__name__}_{vectorizer.__class__.__name__}_{\"VP\" if useVP else \"noVP\"}')\n",
    "\n",
    "param_grids = {\n",
    "    'RandomForestClassifier': {\n",
    "        'clf__n_estimators': [50, 100, 200],\n",
    "        'clf__max_depth': [10, 20, None],\n",
    "        'clf__min_samples_split': [2, 5, 10],\n",
    "    },\n",
    "    'KNeighborsClassifier': {\n",
    "        'clf__n_neighbors': [3, 5, 7],\n",
    "        'clf__weights': ['uniform', 'distance'],\n",
    "        'clf__p': [1, 2],  # p=1 for Manhattan, p=2 for Euclidean\n",
    "    },\n",
    "    'GaussianNB': {\n",
    "        'clf__var_smoothing': [1e-9, 1e-8, 1e-7],\n",
    "    }\n",
    "}\n",
    "\n",
    "inner_cv = StratifiedKFold(n_splits=5, shuffle=True, random_state=42)\n",
    "outer_cv = StratifiedKFold(n_splits=5, shuffle=True, random_state=42)\n",
    "\n",
    "for pipe, pipe_name in zip(pipes, pipes_names):\n",
    "    print(pipe_name)\n",
    "    clf_name = pipe.steps[-1][1].__class__.__name__\n",
    "    grid = param_grids[clf_name]\n",
    "    clf = HalvingGridSearchCV(pipe, grid, cv=inner_cv, factor=2, random_state=42, n_jobs=-1)\n",
    "    scores = cross_val_score(clf, X=df, y=df['LABEL'], cv=outer_cv, scoring='accuracy', n_jobs=-1)\n",
    "    print(scores)\n",
    "    print('Accuracies: ' + str(scores) + '\\n'\n",
    "          + 'Mean Accuracy: ' + str(scores.mean()) + '\\n')\n"
   ],
   "id": "f576b16cbff3938c",
   "outputs": [
    {
     "name": "stdout",
     "output_type": "stream",
     "text": [
      "RandomForestClassifier_TfidfVectorizer_VP\n"
     ]
    },
    {
     "ename": "KeyError",
     "evalue": "'LABEL'",
     "output_type": "error",
     "traceback": [
      "\u001B[1;31m---------------------------------------------------------------------------\u001B[0m",
      "\u001B[1;31mKeyError\u001B[0m                                  Traceback (most recent call last)",
      "File \u001B[1;32m~\\anaconda3\\Lib\\site-packages\\pandas\\core\\indexes\\base.py:3791\u001B[0m, in \u001B[0;36mIndex.get_loc\u001B[1;34m(self, key)\u001B[0m\n\u001B[0;32m   3790\u001B[0m \u001B[38;5;28;01mtry\u001B[39;00m:\n\u001B[1;32m-> 3791\u001B[0m     \u001B[38;5;28;01mreturn\u001B[39;00m \u001B[38;5;28mself\u001B[39m\u001B[38;5;241m.\u001B[39m_engine\u001B[38;5;241m.\u001B[39mget_loc(casted_key)\n\u001B[0;32m   3792\u001B[0m \u001B[38;5;28;01mexcept\u001B[39;00m \u001B[38;5;167;01mKeyError\u001B[39;00m \u001B[38;5;28;01mas\u001B[39;00m err:\n",
      "File \u001B[1;32mindex.pyx:152\u001B[0m, in \u001B[0;36mpandas._libs.index.IndexEngine.get_loc\u001B[1;34m()\u001B[0m\n",
      "File \u001B[1;32mindex.pyx:181\u001B[0m, in \u001B[0;36mpandas._libs.index.IndexEngine.get_loc\u001B[1;34m()\u001B[0m\n",
      "File \u001B[1;32mpandas\\_libs\\hashtable_class_helper.pxi:7080\u001B[0m, in \u001B[0;36mpandas._libs.hashtable.PyObjectHashTable.get_item\u001B[1;34m()\u001B[0m\n",
      "File \u001B[1;32mpandas\\_libs\\hashtable_class_helper.pxi:7088\u001B[0m, in \u001B[0;36mpandas._libs.hashtable.PyObjectHashTable.get_item\u001B[1;34m()\u001B[0m\n",
      "\u001B[1;31mKeyError\u001B[0m: 'LABEL'",
      "\nThe above exception was the direct cause of the following exception:\n",
      "\u001B[1;31mKeyError\u001B[0m                                  Traceback (most recent call last)",
      "Cell \u001B[1;32mIn[8], line 63\u001B[0m\n\u001B[0;32m     61\u001B[0m grid \u001B[38;5;241m=\u001B[39m param_grids[clf_name]\n\u001B[0;32m     62\u001B[0m clf \u001B[38;5;241m=\u001B[39m HalvingGridSearchCV(pipe, grid, cv\u001B[38;5;241m=\u001B[39minner_cv, factor\u001B[38;5;241m=\u001B[39m\u001B[38;5;241m2\u001B[39m, random_state\u001B[38;5;241m=\u001B[39m\u001B[38;5;241m42\u001B[39m, n_jobs\u001B[38;5;241m=\u001B[39m\u001B[38;5;241m-\u001B[39m\u001B[38;5;241m1\u001B[39m)\n\u001B[1;32m---> 63\u001B[0m scores \u001B[38;5;241m=\u001B[39m cross_val_score(clf, X\u001B[38;5;241m=\u001B[39mdf, y\u001B[38;5;241m=\u001B[39mdf[\u001B[38;5;124m'\u001B[39m\u001B[38;5;124mLABEL\u001B[39m\u001B[38;5;124m'\u001B[39m], cv\u001B[38;5;241m=\u001B[39mouter_cv, scoring\u001B[38;5;241m=\u001B[39m\u001B[38;5;124m'\u001B[39m\u001B[38;5;124maccuracy\u001B[39m\u001B[38;5;124m'\u001B[39m, n_jobs\u001B[38;5;241m=\u001B[39m\u001B[38;5;241m-\u001B[39m\u001B[38;5;241m1\u001B[39m)\n\u001B[0;32m     64\u001B[0m \u001B[38;5;28mprint\u001B[39m(scores)\n\u001B[0;32m     65\u001B[0m \u001B[38;5;28mprint\u001B[39m(\u001B[38;5;124m'\u001B[39m\u001B[38;5;124mAccuracies: \u001B[39m\u001B[38;5;124m'\u001B[39m \u001B[38;5;241m+\u001B[39m \u001B[38;5;28mstr\u001B[39m(scores) \u001B[38;5;241m+\u001B[39m \u001B[38;5;124m'\u001B[39m\u001B[38;5;130;01m\\n\u001B[39;00m\u001B[38;5;124m'\u001B[39m\n\u001B[0;32m     66\u001B[0m       \u001B[38;5;241m+\u001B[39m \u001B[38;5;124m'\u001B[39m\u001B[38;5;124mMean Accuracy: \u001B[39m\u001B[38;5;124m'\u001B[39m \u001B[38;5;241m+\u001B[39m \u001B[38;5;28mstr\u001B[39m(scores\u001B[38;5;241m.\u001B[39mmean()) \u001B[38;5;241m+\u001B[39m \u001B[38;5;124m'\u001B[39m\u001B[38;5;130;01m\\n\u001B[39;00m\u001B[38;5;124m'\u001B[39m)\n",
      "File \u001B[1;32m~\\anaconda3\\Lib\\site-packages\\pandas\\core\\frame.py:3893\u001B[0m, in \u001B[0;36mDataFrame.__getitem__\u001B[1;34m(self, key)\u001B[0m\n\u001B[0;32m   3891\u001B[0m \u001B[38;5;28;01mif\u001B[39;00m \u001B[38;5;28mself\u001B[39m\u001B[38;5;241m.\u001B[39mcolumns\u001B[38;5;241m.\u001B[39mnlevels \u001B[38;5;241m>\u001B[39m \u001B[38;5;241m1\u001B[39m:\n\u001B[0;32m   3892\u001B[0m     \u001B[38;5;28;01mreturn\u001B[39;00m \u001B[38;5;28mself\u001B[39m\u001B[38;5;241m.\u001B[39m_getitem_multilevel(key)\n\u001B[1;32m-> 3893\u001B[0m indexer \u001B[38;5;241m=\u001B[39m \u001B[38;5;28mself\u001B[39m\u001B[38;5;241m.\u001B[39mcolumns\u001B[38;5;241m.\u001B[39mget_loc(key)\n\u001B[0;32m   3894\u001B[0m \u001B[38;5;28;01mif\u001B[39;00m is_integer(indexer):\n\u001B[0;32m   3895\u001B[0m     indexer \u001B[38;5;241m=\u001B[39m [indexer]\n",
      "File \u001B[1;32m~\\anaconda3\\Lib\\site-packages\\pandas\\core\\indexes\\base.py:3798\u001B[0m, in \u001B[0;36mIndex.get_loc\u001B[1;34m(self, key)\u001B[0m\n\u001B[0;32m   3793\u001B[0m     \u001B[38;5;28;01mif\u001B[39;00m \u001B[38;5;28misinstance\u001B[39m(casted_key, \u001B[38;5;28mslice\u001B[39m) \u001B[38;5;129;01mor\u001B[39;00m (\n\u001B[0;32m   3794\u001B[0m         \u001B[38;5;28misinstance\u001B[39m(casted_key, abc\u001B[38;5;241m.\u001B[39mIterable)\n\u001B[0;32m   3795\u001B[0m         \u001B[38;5;129;01mand\u001B[39;00m \u001B[38;5;28many\u001B[39m(\u001B[38;5;28misinstance\u001B[39m(x, \u001B[38;5;28mslice\u001B[39m) \u001B[38;5;28;01mfor\u001B[39;00m x \u001B[38;5;129;01min\u001B[39;00m casted_key)\n\u001B[0;32m   3796\u001B[0m     ):\n\u001B[0;32m   3797\u001B[0m         \u001B[38;5;28;01mraise\u001B[39;00m InvalidIndexError(key)\n\u001B[1;32m-> 3798\u001B[0m     \u001B[38;5;28;01mraise\u001B[39;00m \u001B[38;5;167;01mKeyError\u001B[39;00m(key) \u001B[38;5;28;01mfrom\u001B[39;00m \u001B[38;5;21;01merr\u001B[39;00m\n\u001B[0;32m   3799\u001B[0m \u001B[38;5;28;01mexcept\u001B[39;00m \u001B[38;5;167;01mTypeError\u001B[39;00m:\n\u001B[0;32m   3800\u001B[0m     \u001B[38;5;66;03m# If we have a listlike key, _check_indexing_error will raise\u001B[39;00m\n\u001B[0;32m   3801\u001B[0m     \u001B[38;5;66;03m#  InvalidIndexError. Otherwise we fall through and re-raise\u001B[39;00m\n\u001B[0;32m   3802\u001B[0m     \u001B[38;5;66;03m#  the TypeError.\u001B[39;00m\n\u001B[0;32m   3803\u001B[0m     \u001B[38;5;28mself\u001B[39m\u001B[38;5;241m.\u001B[39m_check_indexing_error(key)\n",
      "\u001B[1;31mKeyError\u001B[0m: 'LABEL'"
     ]
    }
   ],
   "execution_count": 8
  }
 ],
 "metadata": {
  "kernelspec": {
   "display_name": "Python 3",
   "language": "python",
   "name": "python3"
  },
  "language_info": {
   "codemirror_mode": {
    "name": "ipython",
    "version": 2
   },
   "file_extension": ".py",
   "mimetype": "text/x-python",
   "name": "python",
   "nbconvert_exporter": "python",
   "pygments_lexer": "ipython2",
   "version": "2.7.6"
  }
 },
 "nbformat": 4,
 "nbformat_minor": 5
}
